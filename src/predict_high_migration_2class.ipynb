{
 "cells": [
  {
   "cell_type": "code",
   "execution_count": 1,
   "metadata": {},
   "outputs": [],
   "source": [
    "import pandas as pd\n",
    "import numpy as np"
   ]
  },
  {
   "cell_type": "code",
   "execution_count": 2,
   "metadata": {},
   "outputs": [],
   "source": [
    "from sklearn.ensemble import RandomForestClassifier\n",
    "from sklearn.linear_model import RidgeClassifier\n",
    "from sklearn.model_selection import cross_validate \n",
    "from sklearn import metrics"
   ]
  },
  {
   "cell_type": "code",
   "execution_count": 3,
   "metadata": {},
   "outputs": [],
   "source": [
    "df = pd.read_csv(\"../data/clean/full_set.csv\")\n",
    "\n",
    "# drop time related features\n",
    "df.drop([\"Time\",\"MidPeriod\",\"year\"], axis=1, inplace=True)\n",
    "\n",
    "# drop country identifying features\n",
    "df.drop([\"Country\",\"country\",\"LocID\",\"Code\"], axis=1, inplace=True)\n",
    "\n",
    "# drop highly correlated variables (to RelMigrations)\n",
    "df.drop([\"CNMR\",\"NetMigrations\"], axis=1, inplace=True)\n",
    "\n",
    "# drop other unwanted columns\n",
    "df.drop([\"change_from_previous_year\",\"Unnamed: 0\"], axis=1, inplace=True)"
   ]
  },
  {
   "cell_type": "code",
   "execution_count": 4,
   "metadata": {},
   "outputs": [
    {
     "data": {
      "text/html": [
       "<div>\n",
       "<style scoped>\n",
       "    .dataframe tbody tr th:only-of-type {\n",
       "        vertical-align: middle;\n",
       "    }\n",
       "\n",
       "    .dataframe tbody tr th {\n",
       "        vertical-align: top;\n",
       "    }\n",
       "\n",
       "    .dataframe thead th {\n",
       "        text-align: right;\n",
       "    }\n",
       "</style>\n",
       "<table border=\"1\" class=\"dataframe\">\n",
       "  <thead>\n",
       "    <tr style=\"text-align: right;\">\n",
       "      <th></th>\n",
       "      <th>TFR</th>\n",
       "      <th>NRR</th>\n",
       "      <th>CBR</th>\n",
       "      <th>Births</th>\n",
       "      <th>LEx</th>\n",
       "      <th>LExMale</th>\n",
       "      <th>LExFemale</th>\n",
       "      <th>IMR</th>\n",
       "      <th>Q5</th>\n",
       "      <th>CDR</th>\n",
       "      <th>...</th>\n",
       "      <th>group_grievance</th>\n",
       "      <th>economy</th>\n",
       "      <th>economic_inequality</th>\n",
       "      <th>human_flight_and_brain_drain</th>\n",
       "      <th>state_legitimacy</th>\n",
       "      <th>public_services</th>\n",
       "      <th>human_rights</th>\n",
       "      <th>demographic_pressures</th>\n",
       "      <th>refugees_and_idps</th>\n",
       "      <th>external_intervention</th>\n",
       "    </tr>\n",
       "  </thead>\n",
       "  <tbody>\n",
       "    <tr>\n",
       "      <th>0</th>\n",
       "      <td>6.478</td>\n",
       "      <td>2.666</td>\n",
       "      <td>42.513</td>\n",
       "      <td>0.042049</td>\n",
       "      <td>59.63</td>\n",
       "      <td>58.34</td>\n",
       "      <td>61.02</td>\n",
       "      <td>72.193</td>\n",
       "      <td>100.008</td>\n",
       "      <td>9.124</td>\n",
       "      <td>...</td>\n",
       "      <td>9.5</td>\n",
       "      <td>8.5</td>\n",
       "      <td>8.1</td>\n",
       "      <td>7.0</td>\n",
       "      <td>9.2</td>\n",
       "      <td>8.3</td>\n",
       "      <td>8.4</td>\n",
       "      <td>9.1</td>\n",
       "      <td>8.9</td>\n",
       "      <td>10.0</td>\n",
       "    </tr>\n",
       "    <tr>\n",
       "      <th>1</th>\n",
       "      <td>5.447</td>\n",
       "      <td>2.319</td>\n",
       "      <td>37.098</td>\n",
       "      <td>0.036558</td>\n",
       "      <td>62.32</td>\n",
       "      <td>60.93</td>\n",
       "      <td>63.79</td>\n",
       "      <td>60.100</td>\n",
       "      <td>81.042</td>\n",
       "      <td>7.498</td>\n",
       "      <td>...</td>\n",
       "      <td>9.2</td>\n",
       "      <td>8.2</td>\n",
       "      <td>7.8</td>\n",
       "      <td>7.2</td>\n",
       "      <td>9.4</td>\n",
       "      <td>8.8</td>\n",
       "      <td>8.4</td>\n",
       "      <td>9.3</td>\n",
       "      <td>9.2</td>\n",
       "      <td>10.0</td>\n",
       "    </tr>\n",
       "  </tbody>\n",
       "</table>\n",
       "<p>2 rows × 44 columns</p>\n",
       "</div>"
      ],
      "text/plain": [
       "     TFR    NRR     CBR    Births    LEx  LExMale  LExFemale     IMR       Q5  \\\n",
       "0  6.478  2.666  42.513  0.042049  59.63    58.34      61.02  72.193  100.008   \n",
       "1  5.447  2.319  37.098  0.036558  62.32    60.93      63.79  60.100   81.042   \n",
       "\n",
       "     CDR  ...  group_grievance  economy  economic_inequality  \\\n",
       "0  9.124  ...              9.5      8.5                  8.1   \n",
       "1  7.498  ...              9.2      8.2                  7.8   \n",
       "\n",
       "   human_flight_and_brain_drain  state_legitimacy  public_services  \\\n",
       "0                           7.0               9.2              8.3   \n",
       "1                           7.2               9.4              8.8   \n",
       "\n",
       "   human_rights  demographic_pressures  refugees_and_idps  \\\n",
       "0           8.4                    9.1                8.9   \n",
       "1           8.4                    9.3                9.2   \n",
       "\n",
       "   external_intervention  \n",
       "0                   10.0  \n",
       "1                   10.0  \n",
       "\n",
       "[2 rows x 44 columns]"
      ]
     },
     "execution_count": 4,
     "metadata": {},
     "output_type": "execute_result"
    }
   ],
   "source": [
    "df.head(2)"
   ]
  },
  {
   "cell_type": "markdown",
   "metadata": {},
   "source": [
    "# Create target class"
   ]
  },
  {
   "cell_type": "code",
   "execution_count": 5,
   "metadata": {},
   "outputs": [
    {
     "data": {
      "text/plain": [
       "<matplotlib.axes._subplots.AxesSubplot at 0xafa8320>"
      ]
     },
     "execution_count": 5,
     "metadata": {},
     "output_type": "execute_result"
    }
   ],
   "source": [
    "df.RelMigrations.hist()"
   ]
  },
  {
   "cell_type": "code",
   "execution_count": 26,
   "metadata": {},
   "outputs": [],
   "source": [
    "conditions = [\n",
    "    (df['RelMigrations'] >= 0.03),\n",
    "    (df['RelMigrations'] < 0.03)]\n",
    "choices = ['high_migration', 'low_migration']\n",
    "df['migration_rank'] = np.select(conditions, choices, default='low_migration')"
   ]
  },
  {
   "cell_type": "code",
   "execution_count": 27,
   "metadata": {
    "scrolled": true
   },
   "outputs": [
    {
     "data": {
      "text/plain": [
       "low_migration     453\n",
       "high_migration     10\n",
       "Name: migration_rank, dtype: int64"
      ]
     },
     "execution_count": 27,
     "metadata": {},
     "output_type": "execute_result"
    }
   ],
   "source": [
    "df.migration_rank.value_counts()"
   ]
  },
  {
   "cell_type": "code",
   "execution_count": 28,
   "metadata": {},
   "outputs": [],
   "source": [
    "total_low_migration = df.migration_rank.value_counts()[\"low_migration\"]\n",
    "total_high_migration = df.migration_rank.value_counts()[\"high_migration\"]"
   ]
  },
  {
   "cell_type": "code",
   "execution_count": 29,
   "metadata": {},
   "outputs": [],
   "source": [
    "X = df.drop([\"RelMigrations\",\"migration_rank\"], axis=1)\n",
    "y = df.migration_rank"
   ]
  },
  {
   "cell_type": "markdown",
   "metadata": {},
   "source": [
    "# Scoring"
   ]
  },
  {
   "cell_type": "code",
   "execution_count": 30,
   "metadata": {},
   "outputs": [],
   "source": [
    "def f1_scorer(classifier, X, y):\n",
    "    y_pred = classifier.predict(X)\n",
    "    f1 = metrics.f1_score(y, y_pred, average=\"weighted\")\n",
    "    return f1"
   ]
  },
  {
   "cell_type": "code",
   "execution_count": 31,
   "metadata": {},
   "outputs": [],
   "source": [
    "def precision_scorer(classifier, X, y):\n",
    "    y_pred = classifier.predict(X)\n",
    "    precision = metrics.precision_score(y, y_pred, average=\"weighted\")\n",
    "    return precision"
   ]
  },
  {
   "cell_type": "code",
   "execution_count": 32,
   "metadata": {},
   "outputs": [],
   "source": [
    "def recall_scorer(classifier, X, y):\n",
    "    y_pred = classifier.predict(X)\n",
    "    recall = metrics.recall_score(y, y_pred, average=\"weighted\")\n",
    "    return recall"
   ]
  },
  {
   "cell_type": "code",
   "execution_count": 33,
   "metadata": {},
   "outputs": [],
   "source": [
    "def confusion_scorer_low(classifier, X, y):\n",
    "    y_pred = classifier.predict(X)\n",
    "    m = metrics.confusion_matrix(y, y_pred, labels=[\"low_migration\",\"high_migration\"])\n",
    "    return m[0][1]"
   ]
  },
  {
   "cell_type": "code",
   "execution_count": 34,
   "metadata": {},
   "outputs": [],
   "source": [
    "def confusion_scorer_high(classifier, X, y):\n",
    "    y_pred = classifier.predict(X)\n",
    "    m = metrics.confusion_matrix(y, y_pred, labels=[\"low_migration\",\"high_migration\"])\n",
    "    return m[1][0]"
   ]
  },
  {
   "cell_type": "code",
   "execution_count": 35,
   "metadata": {},
   "outputs": [],
   "source": [
    "scoring = {\"f1\":f1_scorer, \"precision\":precision_scorer, \"recall\":recall_scorer, \n",
    "           \"wrong_high_migration\":confusion_scorer_high, \"wrong_low_migration\":confusion_scorer_low}"
   ]
  },
  {
   "cell_type": "code",
   "execution_count": 36,
   "metadata": {},
   "outputs": [],
   "source": [
    "def do_crossval(X, y, classifier):\n",
    "    scores = cross_validate(classifier, X, y, cv=10, n_jobs=-1, scoring=scoring, return_train_score=False)\n",
    "    \n",
    "    precision = round(scores[\"test_precision\"].mean(), 3)\n",
    "    recall = round(scores[\"test_recall\"].mean(), 3)\n",
    "    f1 = round(scores[\"test_f1\"].mean(), 3)\n",
    "    confusion_high = round(scores[\"test_wrong_high_migration\"].sum(), 3)\n",
    "    confusion_low = round(scores[\"test_wrong_low_migration\"].sum(), 3)\n",
    "    \n",
    "    return precision, recall, f1, confusion_high, confusion_low"
   ]
  },
  {
   "cell_type": "markdown",
   "metadata": {},
   "source": [
    "# Random Forest"
   ]
  },
  {
   "cell_type": "code",
   "execution_count": 37,
   "metadata": {},
   "outputs": [
    {
     "name": "stdout",
     "output_type": "stream",
     "text": [
      "precision: 0.978\n",
      "recall: 0.987\n",
      "f1_score: 0.982\n",
      "missclassification rate for high migration cases: 50.0%\n",
      "missclassification rate for low migration cases: 0.22%\n"
     ]
    }
   ],
   "source": [
    "precision, recall, f1, confusion_high, confusion_low = do_crossval(X, y, RandomForestClassifier(n_estimators=1000, \n",
    "                                                                                                class_weight=\"balanced\"))\n",
    "print(\"precision: \" + str(precision) + \n",
    "      \"\\nrecall: \" + str(recall) +\n",
    "      \"\\nf1_score: \" + str(f1) + \n",
    "      \"\\nmissclassification rate for high migration cases: \" + str(round(confusion_high / total_high_migration * 100, 2)) + \"%\" +\n",
    "      \"\\nmissclassification rate for low migration cases: \" + str(round(confusion_low / total_low_migration * 100, 2)) + \"%\"\n",
    "     )"
   ]
  },
  {
   "cell_type": "code",
   "execution_count": 38,
   "metadata": {
    "scrolled": true
   },
   "outputs": [
    {
     "data": {
      "text/html": [
       "<div>\n",
       "<style scoped>\n",
       "    .dataframe tbody tr th:only-of-type {\n",
       "        vertical-align: middle;\n",
       "    }\n",
       "\n",
       "    .dataframe tbody tr th {\n",
       "        vertical-align: top;\n",
       "    }\n",
       "\n",
       "    .dataframe thead th {\n",
       "        text-align: right;\n",
       "    }\n",
       "</style>\n",
       "<table border=\"1\" class=\"dataframe\">\n",
       "  <thead>\n",
       "    <tr style=\"text-align: right;\">\n",
       "      <th></th>\n",
       "      <th>importance</th>\n",
       "    </tr>\n",
       "  </thead>\n",
       "  <tbody>\n",
       "    <tr>\n",
       "      <th>GrowthRate</th>\n",
       "      <td>0.167891</td>\n",
       "    </tr>\n",
       "    <tr>\n",
       "      <th>DeathsMale</th>\n",
       "      <td>0.109744</td>\n",
       "    </tr>\n",
       "    <tr>\n",
       "      <th>Deaths</th>\n",
       "      <td>0.107242</td>\n",
       "    </tr>\n",
       "    <tr>\n",
       "      <th>DeathsFemale</th>\n",
       "      <td>0.101462</td>\n",
       "    </tr>\n",
       "    <tr>\n",
       "      <th>CDR</th>\n",
       "      <td>0.084699</td>\n",
       "    </tr>\n",
       "    <tr>\n",
       "      <th>PopMale_20-59</th>\n",
       "      <td>0.065214</td>\n",
       "    </tr>\n",
       "    <tr>\n",
       "      <th>PopTotal_20-59</th>\n",
       "      <td>0.062389</td>\n",
       "    </tr>\n",
       "    <tr>\n",
       "      <th>PopFemale</th>\n",
       "      <td>0.044566</td>\n",
       "    </tr>\n",
       "    <tr>\n",
       "      <th>PopMale</th>\n",
       "      <td>0.043758</td>\n",
       "    </tr>\n",
       "    <tr>\n",
       "      <th>LExMale</th>\n",
       "      <td>0.026910</td>\n",
       "    </tr>\n",
       "    <tr>\n",
       "      <th>PopFemale_60+</th>\n",
       "      <td>0.026451</td>\n",
       "    </tr>\n",
       "    <tr>\n",
       "      <th>PopTotal_60+</th>\n",
       "      <td>0.017877</td>\n",
       "    </tr>\n",
       "    <tr>\n",
       "      <th>Q5</th>\n",
       "      <td>0.013487</td>\n",
       "    </tr>\n",
       "    <tr>\n",
       "      <th>IMR</th>\n",
       "      <td>0.013098</td>\n",
       "    </tr>\n",
       "    <tr>\n",
       "      <th>economy</th>\n",
       "      <td>0.009755</td>\n",
       "    </tr>\n",
       "    <tr>\n",
       "      <th>PopTotal</th>\n",
       "      <td>0.009252</td>\n",
       "    </tr>\n",
       "    <tr>\n",
       "      <th>human_flight_and_brain_drain</th>\n",
       "      <td>0.007923</td>\n",
       "    </tr>\n",
       "    <tr>\n",
       "      <th>LEx</th>\n",
       "      <td>0.007609</td>\n",
       "    </tr>\n",
       "    <tr>\n",
       "      <th>PopMale_60+</th>\n",
       "      <td>0.005661</td>\n",
       "    </tr>\n",
       "    <tr>\n",
       "      <th>public_services</th>\n",
       "      <td>0.005630</td>\n",
       "    </tr>\n",
       "    <tr>\n",
       "      <th>MAC</th>\n",
       "      <td>0.005499</td>\n",
       "    </tr>\n",
       "    <tr>\n",
       "      <th>PopMale_0-19</th>\n",
       "      <td>0.005437</td>\n",
       "    </tr>\n",
       "    <tr>\n",
       "      <th>PopTotal_0-19</th>\n",
       "      <td>0.005310</td>\n",
       "    </tr>\n",
       "    <tr>\n",
       "      <th>economic_inequality</th>\n",
       "      <td>0.005264</td>\n",
       "    </tr>\n",
       "    <tr>\n",
       "      <th>NRR</th>\n",
       "      <td>0.005263</td>\n",
       "    </tr>\n",
       "    <tr>\n",
       "      <th>PopFemale_0-19</th>\n",
       "      <td>0.004495</td>\n",
       "    </tr>\n",
       "    <tr>\n",
       "      <th>factionalized_elites</th>\n",
       "      <td>0.003395</td>\n",
       "    </tr>\n",
       "    <tr>\n",
       "      <th>total</th>\n",
       "      <td>0.003351</td>\n",
       "    </tr>\n",
       "    <tr>\n",
       "      <th>ranking</th>\n",
       "      <td>0.003346</td>\n",
       "    </tr>\n",
       "    <tr>\n",
       "      <th>human_rights</th>\n",
       "      <td>0.003254</td>\n",
       "    </tr>\n",
       "    <tr>\n",
       "      <th>PopFemale_20-59</th>\n",
       "      <td>0.003131</td>\n",
       "    </tr>\n",
       "    <tr>\n",
       "      <th>TFR</th>\n",
       "      <td>0.002980</td>\n",
       "    </tr>\n",
       "    <tr>\n",
       "      <th>NatIncr</th>\n",
       "      <td>0.002969</td>\n",
       "    </tr>\n",
       "    <tr>\n",
       "      <th>external_intervention</th>\n",
       "      <td>0.002269</td>\n",
       "    </tr>\n",
       "    <tr>\n",
       "      <th>state_legitimacy</th>\n",
       "      <td>0.002149</td>\n",
       "    </tr>\n",
       "    <tr>\n",
       "      <th>Births</th>\n",
       "      <td>0.002008</td>\n",
       "    </tr>\n",
       "    <tr>\n",
       "      <th>refugees_and_idps</th>\n",
       "      <td>0.001892</td>\n",
       "    </tr>\n",
       "    <tr>\n",
       "      <th>security_apparatus</th>\n",
       "      <td>0.001505</td>\n",
       "    </tr>\n",
       "    <tr>\n",
       "      <th>CBR</th>\n",
       "      <td>0.001490</td>\n",
       "    </tr>\n",
       "    <tr>\n",
       "      <th>SRB</th>\n",
       "      <td>0.001333</td>\n",
       "    </tr>\n",
       "    <tr>\n",
       "      <th>group_grievance</th>\n",
       "      <td>0.001188</td>\n",
       "    </tr>\n",
       "    <tr>\n",
       "      <th>LExFemale</th>\n",
       "      <td>0.001079</td>\n",
       "    </tr>\n",
       "    <tr>\n",
       "      <th>demographic_pressures</th>\n",
       "      <td>0.000776</td>\n",
       "    </tr>\n",
       "  </tbody>\n",
       "</table>\n",
       "</div>"
      ],
      "text/plain": [
       "                              importance\n",
       "GrowthRate                      0.167891\n",
       "DeathsMale                      0.109744\n",
       "Deaths                          0.107242\n",
       "DeathsFemale                    0.101462\n",
       "CDR                             0.084699\n",
       "PopMale_20-59                   0.065214\n",
       "PopTotal_20-59                  0.062389\n",
       "PopFemale                       0.044566\n",
       "PopMale                         0.043758\n",
       "LExMale                         0.026910\n",
       "PopFemale_60+                   0.026451\n",
       "PopTotal_60+                    0.017877\n",
       "Q5                              0.013487\n",
       "IMR                             0.013098\n",
       "economy                         0.009755\n",
       "PopTotal                        0.009252\n",
       "human_flight_and_brain_drain    0.007923\n",
       "LEx                             0.007609\n",
       "PopMale_60+                     0.005661\n",
       "public_services                 0.005630\n",
       "MAC                             0.005499\n",
       "PopMale_0-19                    0.005437\n",
       "PopTotal_0-19                   0.005310\n",
       "economic_inequality             0.005264\n",
       "NRR                             0.005263\n",
       "PopFemale_0-19                  0.004495\n",
       "factionalized_elites            0.003395\n",
       "total                           0.003351\n",
       "ranking                         0.003346\n",
       "human_rights                    0.003254\n",
       "PopFemale_20-59                 0.003131\n",
       "TFR                             0.002980\n",
       "NatIncr                         0.002969\n",
       "external_intervention           0.002269\n",
       "state_legitimacy                0.002149\n",
       "Births                          0.002008\n",
       "refugees_and_idps               0.001892\n",
       "security_apparatus              0.001505\n",
       "CBR                             0.001490\n",
       "SRB                             0.001333\n",
       "group_grievance                 0.001188\n",
       "LExFemale                       0.001079\n",
       "demographic_pressures           0.000776"
      ]
     },
     "execution_count": 38,
     "metadata": {},
     "output_type": "execute_result"
    }
   ],
   "source": [
    "rf_feature_importances = pd.DataFrame(RandomForestClassifier(n_estimators=1000, class_weight=\"balanced\").fit(X,y).feature_importances_).T\n",
    "rf_feature_importances.columns = X.columns\n",
    "rf_feature_importances = rf_feature_importances.T\n",
    "rf_feature_importances.columns = [\"importance\"]\n",
    "rf_feature_importances.sort_values(by=\"importance\", ascending=False)"
   ]
  },
  {
   "cell_type": "code",
   "execution_count": 39,
   "metadata": {},
   "outputs": [
    {
     "data": {
      "text/plain": [
       "<matplotlib.axes._subplots.AxesSubplot at 0xb2adba8>"
      ]
     },
     "execution_count": 39,
     "metadata": {},
     "output_type": "execute_result"
    },
    {
     "data": {
      "image/png": "[encoded data removed]",
      "text/plain": [
       "<Figure size 432x288 with 1 Axes>"
      ]
     },
     "metadata": {
      "needs_background": "light"
     },
     "output_type": "display_data"
    }
   ],
   "source": [
    "rf_feature_importances.sort_values(by=\"importance\", ascending=True)[-10:].plot(kind=\"barh\")"
   ]
  },
  {
   "cell_type": "markdown",
   "metadata": {},
   "source": [
    "# Ridge"
   ]
  },
  {
   "cell_type": "code",
   "execution_count": 40,
   "metadata": {},
   "outputs": [],
   "source": [
    "from sklearn.preprocessing import MinMaxScaler"
   ]
  },
  {
   "cell_type": "code",
   "execution_count": 41,
   "metadata": {},
   "outputs": [
    {
     "name": "stdout",
     "output_type": "stream",
     "text": [
      "precision: 0.986\n",
      "recall: 0.957\n",
      "f1_score: 0.968\n",
      "missclassification rate for high migration cases: 10.0%\n",
      "missclassification rate for low migration cases: 4.19%\n"
     ]
    },
    {
     "name": "stderr",
     "output_type": "stream",
     "text": [
      "C:\\Anaconda\\envs\\fastaienv\\lib\\site-packages\\sklearn\\preprocessing\\data.py:334: DataConversionWarning: Data with input dtype int64, float64 were all converted to float64 by MinMaxScaler.\n",
      "  return self.partial_fit(X, y)\n"
     ]
    }
   ],
   "source": [
    "precision, recall, f1, confusion_high, confusion_low = do_crossval(MinMaxScaler().fit_transform(X), y, RidgeClassifier(normalize=True, class_weight=\"balanced\"))\n",
    "print(\"precision: \" + str(precision) + \n",
    "      \"\\nrecall: \" + str(recall) +\n",
    "      \"\\nf1_score: \" + str(f1) + \n",
    "      \"\\nmissclassification rate for high migration cases: \" + str(round(confusion_high / total_high_migration * 100, 2)) + \"%\" +\n",
    "      \"\\nmissclassification rate for low migration cases: \" + str(round(confusion_low / total_low_migration * 100, 2)) + \"%\"\n",
    "     )"
   ]
  },
  {
   "cell_type": "code",
   "execution_count": 44,
   "metadata": {
    "scrolled": true
   },
   "outputs": [
    {
     "name": "stderr",
     "output_type": "stream",
     "text": [
      "C:\\Anaconda\\envs\\fastaienv\\lib\\site-packages\\sklearn\\preprocessing\\data.py:334: DataConversionWarning: Data with input dtype int64, float64 were all converted to float64 by MinMaxScaler.\n",
      "  return self.partial_fit(X, y)\n"
     ]
    },
    {
     "data": {
      "text/html": [
       "<div>\n",
       "<style scoped>\n",
       "    .dataframe tbody tr th:only-of-type {\n",
       "        vertical-align: middle;\n",
       "    }\n",
       "\n",
       "    .dataframe tbody tr th {\n",
       "        vertical-align: top;\n",
       "    }\n",
       "\n",
       "    .dataframe thead th {\n",
       "        text-align: right;\n",
       "    }\n",
       "</style>\n",
       "<table border=\"1\" class=\"dataframe\">\n",
       "  <thead>\n",
       "    <tr style=\"text-align: right;\">\n",
       "      <th></th>\n",
       "      <th>importance</th>\n",
       "    </tr>\n",
       "  </thead>\n",
       "  <tbody>\n",
       "    <tr>\n",
       "      <th>DeathsMale</th>\n",
       "      <td>0.304</td>\n",
       "    </tr>\n",
       "    <tr>\n",
       "      <th>Deaths</th>\n",
       "      <td>0.286</td>\n",
       "    </tr>\n",
       "    <tr>\n",
       "      <th>CDR</th>\n",
       "      <td>0.278</td>\n",
       "    </tr>\n",
       "    <tr>\n",
       "      <th>DeathsFemale</th>\n",
       "      <td>0.265</td>\n",
       "    </tr>\n",
       "    <tr>\n",
       "      <th>PopTotal</th>\n",
       "      <td>0.244</td>\n",
       "    </tr>\n",
       "    <tr>\n",
       "      <th>PopMale_60+</th>\n",
       "      <td>0.233</td>\n",
       "    </tr>\n",
       "    <tr>\n",
       "      <th>PopTotal_60+</th>\n",
       "      <td>0.225</td>\n",
       "    </tr>\n",
       "    <tr>\n",
       "      <th>PopFemale_60+</th>\n",
       "      <td>0.214</td>\n",
       "    </tr>\n",
       "    <tr>\n",
       "      <th>economic_inequality</th>\n",
       "      <td>0.212</td>\n",
       "    </tr>\n",
       "    <tr>\n",
       "      <th>economy</th>\n",
       "      <td>0.205</td>\n",
       "    </tr>\n",
       "    <tr>\n",
       "      <th>SRB</th>\n",
       "      <td>0.176</td>\n",
       "    </tr>\n",
       "    <tr>\n",
       "      <th>human_flight_and_brain_drain</th>\n",
       "      <td>0.166</td>\n",
       "    </tr>\n",
       "    <tr>\n",
       "      <th>PopFemale</th>\n",
       "      <td>0.156</td>\n",
       "    </tr>\n",
       "    <tr>\n",
       "      <th>public_services</th>\n",
       "      <td>0.153</td>\n",
       "    </tr>\n",
       "    <tr>\n",
       "      <th>IMR</th>\n",
       "      <td>0.105</td>\n",
       "    </tr>\n",
       "    <tr>\n",
       "      <th>NRR</th>\n",
       "      <td>0.103</td>\n",
       "    </tr>\n",
       "    <tr>\n",
       "      <th>PopMale_0-19</th>\n",
       "      <td>0.085</td>\n",
       "    </tr>\n",
       "    <tr>\n",
       "      <th>PopTotal_0-19</th>\n",
       "      <td>0.074</td>\n",
       "    </tr>\n",
       "    <tr>\n",
       "      <th>TFR</th>\n",
       "      <td>0.072</td>\n",
       "    </tr>\n",
       "    <tr>\n",
       "      <th>PopFemale_0-19</th>\n",
       "      <td>0.067</td>\n",
       "    </tr>\n",
       "    <tr>\n",
       "      <th>Q5</th>\n",
       "      <td>0.052</td>\n",
       "    </tr>\n",
       "    <tr>\n",
       "      <th>demographic_pressures</th>\n",
       "      <td>0.039</td>\n",
       "    </tr>\n",
       "    <tr>\n",
       "      <th>Births</th>\n",
       "      <td>0.030</td>\n",
       "    </tr>\n",
       "    <tr>\n",
       "      <th>CBR</th>\n",
       "      <td>0.018</td>\n",
       "    </tr>\n",
       "    <tr>\n",
       "      <th>total</th>\n",
       "      <td>0.012</td>\n",
       "    </tr>\n",
       "    <tr>\n",
       "      <th>group_grievance</th>\n",
       "      <td>0.001</td>\n",
       "    </tr>\n",
       "    <tr>\n",
       "      <th>refugees_and_idps</th>\n",
       "      <td>-0.001</td>\n",
       "    </tr>\n",
       "    <tr>\n",
       "      <th>security_apparatus</th>\n",
       "      <td>-0.023</td>\n",
       "    </tr>\n",
       "    <tr>\n",
       "      <th>ranking</th>\n",
       "      <td>-0.023</td>\n",
       "    </tr>\n",
       "    <tr>\n",
       "      <th>LExFemale</th>\n",
       "      <td>-0.026</td>\n",
       "    </tr>\n",
       "    <tr>\n",
       "      <th>external_intervention</th>\n",
       "      <td>-0.045</td>\n",
       "    </tr>\n",
       "    <tr>\n",
       "      <th>LEx</th>\n",
       "      <td>-0.068</td>\n",
       "    </tr>\n",
       "    <tr>\n",
       "      <th>NatIncr</th>\n",
       "      <td>-0.075</td>\n",
       "    </tr>\n",
       "    <tr>\n",
       "      <th>state_legitimacy</th>\n",
       "      <td>-0.104</td>\n",
       "    </tr>\n",
       "    <tr>\n",
       "      <th>LExMale</th>\n",
       "      <td>-0.114</td>\n",
       "    </tr>\n",
       "    <tr>\n",
       "      <th>PopMale</th>\n",
       "      <td>-0.156</td>\n",
       "    </tr>\n",
       "    <tr>\n",
       "      <th>human_rights</th>\n",
       "      <td>-0.160</td>\n",
       "    </tr>\n",
       "    <tr>\n",
       "      <th>PopFemale_20-59</th>\n",
       "      <td>-0.205</td>\n",
       "    </tr>\n",
       "    <tr>\n",
       "      <th>PopMale_20-59</th>\n",
       "      <td>-0.218</td>\n",
       "    </tr>\n",
       "    <tr>\n",
       "      <th>factionalized_elites</th>\n",
       "      <td>-0.265</td>\n",
       "    </tr>\n",
       "    <tr>\n",
       "      <th>PopTotal_20-59</th>\n",
       "      <td>-0.269</td>\n",
       "    </tr>\n",
       "    <tr>\n",
       "      <th>MAC</th>\n",
       "      <td>-0.343</td>\n",
       "    </tr>\n",
       "    <tr>\n",
       "      <th>GrowthRate</th>\n",
       "      <td>-0.678</td>\n",
       "    </tr>\n",
       "  </tbody>\n",
       "</table>\n",
       "</div>"
      ],
      "text/plain": [
       "                              importance\n",
       "DeathsMale                         0.304\n",
       "Deaths                             0.286\n",
       "CDR                                0.278\n",
       "DeathsFemale                       0.265\n",
       "PopTotal                           0.244\n",
       "PopMale_60+                        0.233\n",
       "PopTotal_60+                       0.225\n",
       "PopFemale_60+                      0.214\n",
       "economic_inequality                0.212\n",
       "economy                            0.205\n",
       "SRB                                0.176\n",
       "human_flight_and_brain_drain       0.166\n",
       "PopFemale                          0.156\n",
       "public_services                    0.153\n",
       "IMR                                0.105\n",
       "NRR                                0.103\n",
       "PopMale_0-19                       0.085\n",
       "PopTotal_0-19                      0.074\n",
       "TFR                                0.072\n",
       "PopFemale_0-19                     0.067\n",
       "Q5                                 0.052\n",
       "demographic_pressures              0.039\n",
       "Births                             0.030\n",
       "CBR                                0.018\n",
       "total                              0.012\n",
       "group_grievance                    0.001\n",
       "refugees_and_idps                 -0.001\n",
       "security_apparatus                -0.023\n",
       "ranking                           -0.023\n",
       "LExFemale                         -0.026\n",
       "external_intervention             -0.045\n",
       "LEx                               -0.068\n",
       "NatIncr                           -0.075\n",
       "state_legitimacy                  -0.104\n",
       "LExMale                           -0.114\n",
       "PopMale                           -0.156\n",
       "human_rights                      -0.160\n",
       "PopFemale_20-59                   -0.205\n",
       "PopMale_20-59                     -0.218\n",
       "factionalized_elites              -0.265\n",
       "PopTotal_20-59                    -0.269\n",
       "MAC                               -0.343\n",
       "GrowthRate                        -0.678"
      ]
     },
     "execution_count": 44,
     "metadata": {},
     "output_type": "execute_result"
    }
   ],
   "source": [
    "ridge_feature_importances = pd.DataFrame(RidgeClassifier(normalize=True, class_weight=\"balanced\").fit(MinMaxScaler().fit_transform(X),y).coef_)\n",
    "ridge_feature_importances.columns = X.columns\n",
    "ridge_feature_importances = ridge_feature_importances.T\n",
    "ridge_feature_importances.columns = [\"importance\"]\n",
    "ridge_feature_importances = ridge_feature_importances.round(3)\n",
    "ridge_feature_importances.sort_values(by=\"importance\", ascending=False)"
   ]
  },
  {
   "cell_type": "code",
   "execution_count": 49,
   "metadata": {
    "scrolled": true
   },
   "outputs": [
    {
     "data": {
      "text/plain": [
       "<matplotlib.axes._subplots.AxesSubplot at 0x568c278>"
      ]
     },
     "execution_count": 49,
     "metadata": {},
     "output_type": "execute_result"
    },
    {
     "data": {
      "image/png": "[encoded data removed]",
      "text/plain": [
       "<Figure size 432x288 with 1 Axes>"
      ]
     },
     "metadata": {
      "needs_background": "light"
     },
     "output_type": "display_data"
    }
   ],
   "source": [
    "ridge_feature_importances.sort_values(by=\"importance\", ascending=True)[-12:].plot(kind=\"barh\")"
   ]
  }
 ],
 "metadata": {
  "kernelspec": {
   "display_name": "Python 3",
   "language": "python",
   "name": "python3"
  },
  "language_info": {
   "codemirror_mode": {
    "name": "ipython",
    "version": 3
   },
   "file_extension": ".py",
   "mimetype": "text/x-python",
   "name": "python",
   "nbconvert_exporter": "python",
   "pygments_lexer": "ipython3",
   "version": "3.6.5"
  }
 },
 "nbformat": 4,
 "nbformat_minor": 2
}
