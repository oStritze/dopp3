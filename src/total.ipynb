{
 "cells": [
  {
   "cell_type": "code",
   "execution_count": 1,
   "metadata": {},
   "outputs": [],
   "source": [
    "import pandas as pd\n",
    "import numpy as np\n",
    "import os"
   ]
  },
  {
   "cell_type": "markdown",
   "execution_count": null,
   "metadata": {},
   "outputs": [],
   "source": [
    "# Read raw population data"
   ]
  },
  {
   "cell_type": "code",
   "execution_count": 2,
   "metadata": {},
   "outputs": [],
   "source": [
    "def prepare_total_pop():\n",
    "    total_pop = pd.read_csv(\"../data/raw/WPP2019_TotalPopulationBySex.csv\", sep=\",\", na_values='')\n",
    "    total_pop = total_pop[total_pop[\"Time\"] < 2020]\n",
    "    total_pop.drop(columns=[\"LocID\", \"VarID\", \"Variant\", \"MidPeriod\"], inplace=True)\n",
    "\n",
    "    total_pop.columns = [\"Country\", \"Year\", \"PopMale\", \"PopFemale\", \"PopTotal\"]\n",
    "    total_pop.set_index([\"Country\", \"Year\"], inplace=True)\n",
    "\n",
    "    total_pop[[\"PopMale\", \"PopFemale\", \"PopTotal\"]] = (total_pop[[\"PopMale\", \"PopFemale\", \"PopTotal\"]].fillna(0) * 1000).astype(\"int64\")\n",
    "    return total_pop\n",
    "\n",
    "def prepare_age_pop():\n",
    "    age_pop = pd.read_csv(\"../data/raw/population/WPP2019_PopulationByAgeSex_Medium.csv\", sep=\",\", na_values='')\n",
    "    age_pop = age_pop[age_pop[\"Time\"] < 2020]\n",
    "    age_pop.drop(columns=[\"LocID\", \"VarID\", \"Variant\", \"MidPeriod\", \"AgeGrpStart\", \"AgeGrpSpan\"], inplace=True)\n",
    "\n",
    "    age_pop.columns = [\"Country\", \"Year\", \"AgeGrp\", \"PopMale\", \"PopFemale\", \"PopTotal\"]\n",
    "    age_pop.set_index([\"Country\", \"Year\"], inplace=True)\n",
    "\n",
    "    age_pop[[\"PopMale\", \"PopFemale\", \"PopTotal\"]] = (age_pop[[\"PopMale\", \"PopFemale\", \"PopTotal\"]].fillna(0) * 1000).astype(\"int64\")\n",
    "    return age_pop"
   ]
  },
  {
   "cell_type": "code",
   "execution_count": 3,
   "metadata": {},
   "outputs": [],
   "source": [
    "pop_total = prepare_total_pop()\n",
    "pop_per_age = prepare_age_pop()"
   ]
  },
  {
   "cell_type": "code",
   "execution_count": 4,
   "metadata": {},
   "outputs": [
    {
     "data": {
      "text/html": "<div>\n<style scoped>\n    .dataframe tbody tr th:only-of-type {\n        vertical-align: middle;\n    }\n\n    .dataframe tbody tr th {\n        vertical-align: top;\n    }\n\n    .dataframe thead th {\n        text-align: right;\n    }\n</style>\n<table border=\"1\" class=\"dataframe\">\n  <thead>\n    <tr style=\"text-align: right;\">\n      <th></th>\n      <th></th>\n      <th>PopMale</th>\n      <th>PopFemale</th>\n      <th>PopTotal</th>\n    </tr>\n    <tr>\n      <th>Country</th>\n      <th>Year</th>\n      <th></th>\n      <th></th>\n      <th></th>\n    </tr>\n  </thead>\n  <tbody>\n    <tr>\n      <th rowspan=\"2\" valign=\"top\">Afghanistan</th>\n      <th>1950</th>\n      <td>4099242</td>\n      <td>3652874</td>\n      <td>7752116</td>\n    </tr>\n    <tr>\n      <th>1951</th>\n      <td>4134755</td>\n      <td>3705395</td>\n      <td>7840151</td>\n    </tr>\n  </tbody>\n</table>\n</div>",
      "text/plain": "                  PopMale  PopFemale  PopTotal\nCountry     Year                              \nAfghanistan 1950  4099242    3652874   7752116\n            1951  4134755    3705395   7840151"
     },
     "execution_count": 4,
     "metadata": {},
     "output_type": "execute_result"
    }
   ],
   "source": [
    "pop_total.head(2)"
   ]
  },
  {
   "cell_type": "code",
   "execution_count": 5,
   "metadata": {},
   "outputs": [
    {
     "data": {
      "text/html": "<div>\n<style scoped>\n    .dataframe tbody tr th:only-of-type {\n        vertical-align: middle;\n    }\n\n    .dataframe tbody tr th {\n        vertical-align: top;\n    }\n\n    .dataframe thead th {\n        text-align: right;\n    }\n</style>\n<table border=\"1\" class=\"dataframe\">\n  <thead>\n    <tr style=\"text-align: right;\">\n      <th></th>\n      <th></th>\n      <th>AgeGrp</th>\n      <th>PopMale</th>\n      <th>PopFemale</th>\n      <th>PopTotal</th>\n    </tr>\n    <tr>\n      <th>Country</th>\n      <th>Year</th>\n      <th></th>\n      <th></th>\n      <th></th>\n      <th></th>\n    </tr>\n  </thead>\n  <tbody>\n    <tr>\n      <th rowspan=\"2\" valign=\"top\">Afghanistan</th>\n      <th>1950</th>\n      <td>0-4</td>\n      <td>630044</td>\n      <td>661578</td>\n      <td>1291622</td>\n    </tr>\n    <tr>\n      <th>1950</th>\n      <td>5-9</td>\n      <td>516206</td>\n      <td>487335</td>\n      <td>1003541</td>\n    </tr>\n  </tbody>\n</table>\n</div>",
      "text/plain": "                 AgeGrp  PopMale  PopFemale  PopTotal\nCountry     Year                                     \nAfghanistan 1950    0-4   630044     661578   1291622\n            1950    5-9   516206     487335   1003541"
     },
     "execution_count": 5,
     "metadata": {},
     "output_type": "execute_result"
    }
   ],
   "source": [
    "pop_per_age.head(2)"
   ]
  },
  {
   "cell_type": "markdown",
   "execution_count": null,
   "metadata": {},
   "outputs": [],
   "source": [
    "# Rearrange Population data"
   ]
  },
  {
   "cell_type": "markdown",
   "execution_count": null,
   "metadata": {},
   "outputs": [],
   "source": [
    "## Aggregate the age groups in three larger groups, from 0-19, 20-59, and 60+ years"
   ]
  },
  {
   "cell_type": "code",
   "execution_count": 6,
   "metadata": {},
   "outputs": [],
   "source": [
    "pop_per_age_young = pop_per_age.query('AgeGrp in [\"0-4\", \"5-9\", \"10-14\", \"15-19\"]').sum(level=['Country', 'Year'])\n",
    "pop_per_age_young.rename(columns={\"PopMale\": \"PopMale_0-19\", \"PopFemale\": \"PopFemale_0-19\", \"PopTotal\" : \"PopTotal_0-19\"}, inplace=True)\n",
    "pop_per_age_mid = pop_per_age.query('AgeGrp in [\"20-24\", \"25-29\", \"30-34\", \"35-39\", \"40-44\", \"45-49\",\"50-54\", \"55-59\"]').sum(level=['Country', 'Year'])\n",
    "pop_per_age_mid.rename(columns={\"PopMale\": \"PopMale_20-59\", \"PopFemale\": \"PopFemale_20-59\", \"PopTotal\" : \"PopTotal_20-59\"}, inplace=True)\n",
    "pop_per_age_old = pop_per_age.query('AgeGrp in [\"60-64\", \"65-69\", \"70-74\", \"75-79\", \"80-84\", \"85-89\", \"90-94\", \"95-99\", \"100+\"]').sum(level=['Country', 'Year'])\n",
    "pop_per_age_old.rename(columns={\"PopMale\": \"PopMale_60+\", \"PopFemale\": \"PopFemale_60+\", \"PopTotal\" : \"PopTotal_60+\"}, inplace=True)"
   ]
  },
  {
   "cell_type": "markdown",
   "execution_count": null,
   "metadata": {},
   "outputs": [],
   "source": [
    "## Merge age groups with total population"
   ]
  },
  {
   "cell_type": "code",
   "execution_count": 7,
   "metadata": {},
   "outputs": [],
   "source": [
    "pop_with_groups = pop_per_age_young.merge(pop_per_age_mid, left_index=True, right_index=True)\n",
    "pop_with_groups = pop_with_groups.merge(pop_per_age_old, left_index=True, right_index=True)\n",
    "pop_total_with_groups = pop_total.merge(pop_with_groups, left_index=True, right_index=True)"
   ]
  },
  {
   "cell_type": "markdown",
   "execution_count": null,
   "metadata": {},
   "outputs": [],
   "source": [
    "# Load indicators dataset"
   ]
  },
  {
   "cell_type": "code",
   "execution_count": 8,
   "metadata": {},
   "outputs": [],
   "source": [
    "indicators = pd.read_csv(\"../data/raw/WPP2019_Period_Indicators_Medium.csv\", sep=\",\", na_values='')\n",
    "indicators[[\"Births\", \"Deaths\", \"DeathsMale\", \"DeathsFemale\", \"NetMigrations\"]] = (indicators[[\"Births\", \"Deaths\", \"DeathsMale\", \"DeathsFemale\", \"NetMigrations\"]].fillna(0) * 1000 / 5).astype(\"int64\")\n",
    "indicators_pop = indicators.merge(pop_total_with_groups, left_on=['MidPeriod','Location'], right_on=['Year', 'Country'])\n",
    "indicators_pop[\"RelMigrations\"] = indicators_pop[\"NetMigrations\"] / indicators_pop[\"PopTotal\"]\n",
    "indicators_pop.drop(columns=['VarID', 'Variant'], inplace=True)\n",
    "indicators_pop.rename(columns={\"Location\" : \"Country\"}, inplace=True)"
   ]
  },
  {
   "cell_type": "markdown",
   "execution_count": null,
   "metadata": {},
   "outputs": [],
   "source": [
    "## Scale population columns by total population"
   ]
  },
  {
   "cell_type": "code",
   "execution_count": 9,
   "metadata": {},
   "outputs": [],
   "source": [
    "scale_cols = [\"Births\", \"Deaths\", \"DeathsMale\", \"DeathsFemale\", \"PopMale\", \"PopFemale\", \"PopMale_0-19\", \"PopFemale_0-19\",\n",
    "              \"PopTotal_0-19\", \"PopMale_20-59\", \"PopFemale_20-59\", \"PopTotal_20-59\", \"PopMale_60+\", \"PopFemale_60+\", \"PopTotal_60+\"]\n",
    "indicators_pop[scale_cols] = indicators_pop[scale_cols].div(indicators_pop[\"PopTotal\"], axis=0)"
   ]
  },
  {
   "cell_type": "markdown",
   "execution_count": null,
   "metadata": {},
   "outputs": [],
   "source": [
    "# Read fragile states data\n",
    "## Merge it with `indicators_pop`"
   ]
  },
  {
   "cell_type": "code",
   "execution_count": 10,
   "metadata": {},
   "outputs": [],
   "source": [
    "fragile_states = pd.read_csv(\"../data/clean/fragile_states_index.csv\", sep=\",\", na_values='')\n",
    "fragile_states[\"country\"] = fragile_states[\"country\"].str.strip()\n",
    "full_set = indicators_pop.merge(fragile_states, left_on=['Country','MidPeriod'], right_on=['country','year'])"
   ]
  },
  {
   "cell_type": "markdown",
   "execution_count": null,
   "metadata": {},
   "outputs": [],
   "source": [
    "## Calculate the index change from the previous 5 year"
   ]
  },
  {
   "cell_type": "code",
   "execution_count": 11,
   "metadata": {},
   "outputs": [],
   "source": [
    "query_result = full_set.query(\"Time == '2005-2010'\")\n",
    "full_set.loc[query_result.index, \"change_from_previous_year\"] = pd.Series(0, index=query_result.index)\n",
    "previous = query_result\n",
    "for years in [\"2010-2015\", \"2015-2020\"]:\n",
    "    query_result = full_set.query(\"Time == '\" + years + \"'\")\n",
    "    full_set.loc[query_result.index, \"change_from_previous_year\"] = \\\n",
    "        (query_result.set_index(\"Country\")[\"total\"] - previous.set_index(\"Country\")[\"total\"]).round(1).fillna(0).to_numpy()\n",
    "    previous = full_set.loc[query_result.index, :]"
   ]
  },
  {
   "cell_type": "markdown",
   "execution_count": null,
   "metadata": {},
   "outputs": [],
   "source": [
    "# Save all dataframes"
   ]
  },
  {
   "cell_type": "code",
   "execution_count": 12,
   "metadata": {},
   "outputs": [],
   "source": [
    "pop_total.to_csv(\"../data/clean/population_total.csv\")\n",
    "pop_per_age.to_csv(\"../data/clean/population_per_age.csv\")\n",
    "indicators_pop.to_csv(index=False, path_or_buf=\"../data/clean/population_indicators.csv\")\n",
    "full_set.to_csv(index=False, path_or_buf=\"../data/clean/full_set.csv\")"
   ]
  },
  {
   "cell_type": "code",
   "execution_count": null,
   "metadata": {},
   "outputs": [],
   "source": []
  }
 ],
 "metadata": {
  "kernelspec": {
   "display_name": "Python 3",
   "language": "python",
   "name": "python3"
  },
  "language_info": {
   "codemirror_mode": {
    "name": "ipython",
    "version": 3
   },
   "file_extension": ".py",
   "mimetype": "text/x-python",
   "name": "python",
   "nbconvert_exporter": "python",
   "pygments_lexer": "ipython3",
   "version": "3.7.3-final"
  },
  "pycharm": {
   "stem_cell": {
    "cell_type": "raw",
    "source": [],
    "metadata": {
     "collapsed": false
    }
   }
  }
 },
 "nbformat": 4,
 "nbformat_minor": 2
}