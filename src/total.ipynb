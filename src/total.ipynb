{
 "cells": [
  {
   "cell_type": "code",
   "execution_count": 1,
   "metadata": {
    "pycharm": {
     "is_executing": false
    }
   },
   "outputs": [],
   "source": [
    "import pandas as pd\n",
    "import numpy as np\n",
    "import os"
   ]
  },
  {
   "cell_type": "markdown",
   "execution_count": null,
   "metadata": {},
   "outputs": [],
   "source": [
    "# Read raw population data"
   ]
  },
  {
   "cell_type": "code",
   "execution_count": 2,
   "metadata": {
    "pycharm": {
     "is_executing": false
    }
   },
   "outputs": [],
   "source": [
    "def prepare_total_pop():\n",
    "    total_pop = pd.read_csv(\"../data/raw/WPP2019_TotalPopulationBySex.csv\", sep=\",\", na_values='')\n",
    "    total_pop = total_pop[total_pop[\"Time\"] < 2020]\n",
    "    total_pop.drop(columns=[\"LocID\", \"VarID\", \"Variant\", \"MidPeriod\"], inplace=True)\n",
    "\n",
    "    total_pop.columns = [\"Country\", \"Year\", \"PopMale\", \"PopFemale\", \"PopTotal\"]\n",
    "    total_pop.set_index([\"Country\", \"Year\"], inplace=True)\n",
    "\n",
    "    total_pop[[\"PopMale\", \"PopFemale\", \"PopTotal\"]] = (total_pop[[\"PopMale\", \"PopFemale\", \"PopTotal\"]].fillna(0) * 1000).astype(\"int64\")\n",
    "    return total_pop\n",
    "\n",
    "def prepare_age_pop():\n",
    "    age_pop = pd.read_csv(\"../data/raw/WPP2019_PopulationByAgeSex_Medium.csv\", sep=\",\", na_values='')\n",
    "    age_pop = age_pop[age_pop[\"Time\"] < 2020]\n",
    "    age_pop.drop(columns=[\"LocID\", \"VarID\", \"Variant\", \"MidPeriod\", \"AgeGrpStart\", \"AgeGrpSpan\"], inplace=True)\n",
    "\n",
    "    age_pop.columns = [\"Country\", \"Year\", \"AgeGrp\", \"PopMale\", \"PopFemale\", \"PopTotal\"]\n",
    "    age_pop.set_index([\"Country\", \"Year\"], inplace=True)\n",
    "\n",
    "    age_pop[[\"PopMale\", \"PopFemale\", \"PopTotal\"]] = (age_pop[[\"PopMale\", \"PopFemale\", \"PopTotal\"]].fillna(0) * 1000).astype(\"int64\")\n",
    "    return age_pop"
   ]
  },
  {
   "cell_type": "code",
   "execution_count": 3,
   "metadata": {
    "pycharm": {
     "is_executing": false
    }
   },
   "outputs": [],
   "source": [
    "pop_total = prepare_total_pop()\n",
    "pop_per_age = prepare_age_pop()"
   ]
  },
  {
   "cell_type": "code",
   "execution_count": 4,
   "metadata": {
    "pycharm": {
     "is_executing": false
    }
   },
   "outputs": [
    {
     "data": {
      "text/plain": "                  PopMale  PopFemale  PopTotal\nCountry     Year                              \nAfghanistan 1950  4099242    3652874   7752116\n            1951  4134755    3705395   7840151",
      "text/html": "<div>\n<style scoped>\n    .dataframe tbody tr th:only-of-type {\n        vertical-align: middle;\n    }\n\n    .dataframe tbody tr th {\n        vertical-align: top;\n    }\n\n    .dataframe thead th {\n        text-align: right;\n    }\n</style>\n<table border=\"1\" class=\"dataframe\">\n  <thead>\n    <tr style=\"text-align: right;\">\n      <th></th>\n      <th></th>\n      <th>PopMale</th>\n      <th>PopFemale</th>\n      <th>PopTotal</th>\n    </tr>\n    <tr>\n      <th>Country</th>\n      <th>Year</th>\n      <th></th>\n      <th></th>\n      <th></th>\n    </tr>\n  </thead>\n  <tbody>\n    <tr>\n      <th rowspan=\"2\" valign=\"top\">Afghanistan</th>\n      <th>1950</th>\n      <td>4099242</td>\n      <td>3652874</td>\n      <td>7752116</td>\n    </tr>\n    <tr>\n      <th>1951</th>\n      <td>4134755</td>\n      <td>3705395</td>\n      <td>7840151</td>\n    </tr>\n  </tbody>\n</table>\n</div>"
     },
     "metadata": {},
     "output_type": "execute_result",
     "execution_count": 4
    }
   ],
   "source": [
    "pop_total.head(2)"
   ]
  },
  {
   "cell_type": "code",
   "execution_count": 5,
   "metadata": {
    "pycharm": {
     "is_executing": false
    }
   },
   "outputs": [
    {
     "data": {
      "text/plain": "                 AgeGrp  PopMale  PopFemale  PopTotal\nCountry     Year                                     \nAfghanistan 1950    0-4   630044     661578   1291622\n            1950    5-9   516206     487335   1003541",
      "text/html": "<div>\n<style scoped>\n    .dataframe tbody tr th:only-of-type {\n        vertical-align: middle;\n    }\n\n    .dataframe tbody tr th {\n        vertical-align: top;\n    }\n\n    .dataframe thead th {\n        text-align: right;\n    }\n</style>\n<table border=\"1\" class=\"dataframe\">\n  <thead>\n    <tr style=\"text-align: right;\">\n      <th></th>\n      <th></th>\n      <th>AgeGrp</th>\n      <th>PopMale</th>\n      <th>PopFemale</th>\n      <th>PopTotal</th>\n    </tr>\n    <tr>\n      <th>Country</th>\n      <th>Year</th>\n      <th></th>\n      <th></th>\n      <th></th>\n      <th></th>\n    </tr>\n  </thead>\n  <tbody>\n    <tr>\n      <th rowspan=\"2\" valign=\"top\">Afghanistan</th>\n      <th>1950</th>\n      <td>0-4</td>\n      <td>630044</td>\n      <td>661578</td>\n      <td>1291622</td>\n    </tr>\n    <tr>\n      <th>1950</th>\n      <td>5-9</td>\n      <td>516206</td>\n      <td>487335</td>\n      <td>1003541</td>\n    </tr>\n  </tbody>\n</table>\n</div>"
     },
     "metadata": {},
     "output_type": "execute_result",
     "execution_count": 5
    }
   ],
   "source": [
    "pop_per_age.head(2)"
   ]
  },
  {
   "cell_type": "markdown",
   "execution_count": null,
   "metadata": {},
   "outputs": [],
   "source": [
    "# Rearrange Population data"
   ]
  },
  {
   "cell_type": "markdown",
   "execution_count": null,
   "metadata": {},
   "outputs": [],
   "source": [
    "## Aggregate the age groups in three larger groups, from 0-19, 20-59, and 60+ years"
   ]
  },
  {
   "cell_type": "code",
   "execution_count": 6,
   "metadata": {
    "pycharm": {
     "is_executing": false
    }
   },
   "outputs": [],
   "source": [
    "pop_per_age_young = pop_per_age.query('AgeGrp in [\"0-4\", \"5-9\", \"10-14\", \"15-19\"]').sum(level=['Country', 'Year'])\n",
    "pop_per_age_young.rename(columns={\"PopMale\": \"PopMale_0-19\", \"PopFemale\": \"PopFemale_0-19\", \"PopTotal\" : \"PopTotal_0-19\"}, inplace=True)\n",
    "pop_per_age_mid = pop_per_age.query('AgeGrp in [\"20-24\", \"25-29\", \"30-34\", \"35-39\", \"40-44\", \"45-49\",\"50-54\", \"55-59\"]').sum(level=['Country', 'Year'])\n",
    "pop_per_age_mid.rename(columns={\"PopMale\": \"PopMale_20-59\", \"PopFemale\": \"PopFemale_20-59\", \"PopTotal\" : \"PopTotal_20-59\"}, inplace=True)\n",
    "pop_per_age_old = pop_per_age.query('AgeGrp in [\"60-64\", \"65-69\", \"70-74\", \"75-79\", \"80-84\", \"85-89\", \"90-94\", \"95-99\", \"100+\"]').sum(level=['Country', 'Year'])\n",
    "pop_per_age_old.rename(columns={\"PopMale\": \"PopMale_60+\", \"PopFemale\": \"PopFemale_60+\", \"PopTotal\" : \"PopTotal_60+\"}, inplace=True)"
   ]
  },
  {
   "cell_type": "markdown",
   "execution_count": null,
   "metadata": {},
   "outputs": [],
   "source": [
    "## Merge age groups with total population"
   ]
  },
  {
   "cell_type": "code",
   "execution_count": 7,
   "metadata": {
    "pycharm": {
     "is_executing": false
    }
   },
   "outputs": [],
   "source": [
    "pop_with_groups = pop_per_age_young.merge(pop_per_age_mid, left_index=True, right_index=True)\n",
    "pop_with_groups = pop_with_groups.merge(pop_per_age_old, left_index=True, right_index=True)\n",
    "pop_total_with_groups = pop_total.merge(pop_with_groups, left_index=True, right_index=True)"
   ]
  },
  {
   "cell_type": "markdown",
   "execution_count": null,
   "metadata": {},
   "outputs": [],
   "source": [
    "# Load indicators dataset"
   ]
  },
  {
   "cell_type": "code",
   "execution_count": 8,
   "metadata": {
    "pycharm": {
     "is_executing": false
    }
   },
   "outputs": [],
   "source": [
    "indicators = pd.read_csv(\"../data/raw/WPP2019_Period_Indicators_Medium.csv\", sep=\",\", na_values='')\n",
    "indicators[[\"Births\", \"Deaths\", \"DeathsMale\", \"DeathsFemale\", \"NetMigrations\"]] = (indicators[[\"Births\", \"Deaths\", \"DeathsMale\", \"DeathsFemale\", \"NetMigrations\"]].fillna(0) * 1000 / 5).astype(\"int64\")\n",
    "indicators_pop = indicators.merge(pop_total_with_groups, left_on=['MidPeriod','Location'], right_on=['Year', 'Country'])\n",
    "indicators_pop[\"RelMigrations\"] = indicators_pop[\"NetMigrations\"] / indicators_pop[\"PopTotal\"]\n",
    "indicators_pop.drop(columns=['VarID', 'Variant'], inplace=True)\n",
    "indicators_pop.rename(columns={\"Location\" : \"Country\"}, inplace=True)"
   ]
  },
  {
   "cell_type": "markdown",
   "execution_count": null,
   "metadata": {},
   "outputs": [],
   "source": [
    "## Scale population columns by total population"
   ]
  },
  {
   "cell_type": "code",
   "execution_count": 9,
   "metadata": {
    "pycharm": {
     "is_executing": false
    }
   },
   "outputs": [],
   "source": [
    "scale_cols = [\"Births\", \"Deaths\", \"DeathsMale\", \"DeathsFemale\", \"PopMale\", \"PopFemale\", \"PopMale_0-19\", \"PopFemale_0-19\",\n",
    "              \"PopTotal_0-19\", \"PopMale_20-59\", \"PopFemale_20-59\", \"PopTotal_20-59\", \"PopMale_60+\", \"PopFemale_60+\", \"PopTotal_60+\"]\n",
    "indicators_pop[scale_cols] = indicators_pop[scale_cols].div(indicators_pop[\"PopTotal\"], axis=0)"
   ]
  },
  {
   "cell_type": "markdown",
   "execution_count": null,
   "metadata": {},
   "outputs": [],
   "source": [
    "# Read fragile states data\n",
    "## Merge it with `indicators_pop`"
   ]
  },
  {
   "cell_type": "code",
   "execution_count": 10,
   "metadata": {
    "pycharm": {
     "is_executing": false
    }
   },
   "outputs": [],
   "source": [
    "fragile_states = pd.read_csv(\"../data/clean/fragile_states_index.csv\", sep=\",\", na_values='')\n",
    "fragile_states[\"country\"] = fragile_states[\"country\"].str.strip()\n",
    "full_set = indicators_pop.merge(fragile_states, left_on=['Country','MidPeriod'], right_on=['country','year'])"
   ]
  },
  {
   "cell_type": "markdown",
   "execution_count": null,
   "metadata": {},
   "outputs": [],
   "source": [
    "## Concat not merged countries manually"
   ]
  },
  {
   "cell_type": "code",
   "execution_count": 12,
   "metadata": {
    "pycharm": {
     "is_executing": false
    }
   },
   "outputs": [
    {
     "data": {
      "text/plain": "[('Bolivia', 'Bolivia (Plurinational State of)'),\n ('Cape Verde', 'Cabo Verde'),\n ('Congo Democratic Republic', 'Democratic Republic of the Congo'),\n ('Congo Republic', 'Congo'),\n (\"Cote d'Ivoire\", \"Côte d'Ivoire\"),\n ('Czech Republic', 'Czechia'),\n ('Guinea Bissau', 'Guinea-Bissau'),\n ('Iran', 'Iran (Islamic Republic of)'),\n ('Israel and West Bank', 'Israel'),\n ('Kyrgyz Republic', 'Kyrgyzstan'),\n ('Laos', \"Lao People's Democratic Republic\"),\n ('Macedonia', 'North Macedonia'),\n ('Moldova', 'Republic of Moldova'),\n ('North Korea', \"Dem. People's Republic of Korea\"),\n ('Russia', 'Russian Federation'),\n ('Slovak Republic', 'Slovakia'),\n ('South Korea', 'Republic of Korea'),\n ('Swaziland', 'Eswatini'),\n ('Syria', 'Syrian Arab Republic'),\n ('Tanzania', 'United Republic of Tanzania'),\n ('United States', 'United States of America'),\n ('Venezuela', 'Venezuela (Bolivarian Republic of)'),\n ('Vietnam', 'Viet Nam')]"
     },
     "metadata": {},
     "output_type": "execute_result",
     "execution_count": 12
    }
   ],
   "source": [
    "missing_countries = list(set(fragile_states[\"country\"]).difference(set(full_set[\"country\"])))\n",
    "missing_countries.remove(\"Eswatini\")\n",
    "missing_countries.remove(\"Czechia\")\n",
    "missing_countries.sort()\n",
    "corresponding_countries = [\"Bolivia (Plurinational State of)\", \"Cabo Verde\", \"Democratic Republic of the Congo\", \"Congo\", \"Côte d'Ivoire\", \"Czechia\", \"Guinea-Bissau\", \"Iran (Islamic Republic of)\", \"Israel\", \"Kyrgyzstan\", \"Lao People's Democratic Republic\", \"North Macedonia\", \"Republic of Moldova\", \"Dem. People's Republic of Korea\", \"Russian Federation\", \"Slovakia\", \"Republic of Korea\", \"Eswatini\", \"Syrian Arab Republic\", \"United Republic of Tanzania\", \"United States of America\", \"Venezuela (Bolivarian Republic of)\", \"Viet Nam\"]\n",
    "replacements = list(zip(missing_countries, corresponding_countries))\n",
    "replacements"
   ]
  },
  {
   "cell_type": "code",
   "execution_count": 13,
   "metadata": {
    "pycharm": {
     "is_executing": false
    }
   },
   "outputs": [
    {
     "data": {
      "text/plain": "array(['Sudan', 'Democratic Republic of the Congo', \"Côte d'Ivoire\",\n       'Iraq', 'Zimbabwe', 'Chad', 'Somalia', 'Haiti', 'Pakistan',\n       'Afghanistan', 'Guinea', 'Liberia', 'Central African Republic',\n       \"Dem. People's Republic of Korea\", 'Burundi', 'Sierra Leone',\n       'Yemen', 'Myanmar', 'Bangladesh', 'Nepal', 'Uganda', 'Nigeria',\n       'Uzbekistan', 'Rwanda', 'Sri Lanka', 'Ethiopia', 'Colombia',\n       'Kyrgyzstan', 'Malawi', 'Burkina Faso', 'Egypt', 'Indonesia',\n       'Kenya', 'Syrian Arab Republic', 'Bosnia and Herzegovina',\n       'Cameroon', 'Angola', 'Togo', 'Bhutan',\n       \"Lao People's Democratic Republic\", 'Mauritania', 'Tajikistan',\n       'Russian Federation', 'Niger', 'Turkmenistan', 'Guinea-Bissau',\n       'Cambodia', 'Dominican Republic', 'Papua New Guinea', 'Belarus',\n       'Guatemala', 'Equatorial Guinea', 'Iran (Islamic Republic of)',\n       'Eritrea', 'Serbia', 'Bolivia (Plurinational State of)', 'China',\n       'Republic of Moldova', 'Nicaragua', 'Georgia', 'Azerbaijan',\n       'Cuba', 'Ecuador', 'Venezuela (Bolivarian Republic of)', 'Lebanon',\n       'Zambia', 'Israel', 'Peru', 'Philippines', 'Viet Nam',\n       'United Republic of Tanzania', 'Algeria', 'Saudi Arabia', 'Jordan',\n       'Honduras', 'Morocco', 'El Salvador', 'North Macedonia',\n       'Thailand', 'Mozambique', 'Mali', 'Turkey', 'Gambia', 'Gabon',\n       'Mexico', 'Ukraine', 'Paraguay', 'Kazakhstan', 'Armenia', 'Benin',\n       'Namibia', 'Cyprus', 'India', 'Albania', 'Libya', 'Botswana',\n       'Jamaica', 'Malaysia', 'Senegal', 'Tunisia', 'Brazil', 'Romania',\n       'Bulgaria', 'Croatia', 'Kuwait', 'Ghana', 'Panama', 'Mongolia',\n       'Latvia', 'South Africa', 'Estonia', 'Slovakia', 'Lithuania',\n       'Costa Rica', 'Poland', 'Hungary', 'Oman', 'Mauritius', 'Czechia',\n       'Uruguay', 'Greece', 'Argentina', 'Republic of Korea', 'Germany',\n       'Spain', 'Slovenia', 'Italy', 'United States of America', 'France',\n       'United Kingdom', 'Portugal', 'Chile', 'Singapore', 'Netherlands',\n       'Japan', 'Austria', 'Denmark', 'Belgium', 'Canada', 'Australia',\n       'New Zealand', 'Switzerland', 'Ireland', 'Finland', 'Sweden',\n       'Norway', 'Timor-Leste', 'Congo', 'Solomon Islands', 'Eswatini',\n       'Lesotho', 'Cabo Verde', 'Maldives', 'Djibouti',\n       'Sao Tome and Principe', 'Comoros', 'Madagascar', 'Fiji',\n       'Suriname', 'Samoa', 'Micronesia', 'Guyana', 'Grenada',\n       'Seychelles', 'Brunei Darussalam', 'Belize', 'Trinidad and Tobago',\n       'Antigua and Barbuda', 'Bahamas', 'Barbados', 'Bahrain',\n       'Montenegro', 'Qatar', 'United Arab Emirates', 'Malta',\n       'Luxembourg', 'Iceland', 'South Sudan'], dtype=object)"
     },
     "metadata": {},
     "output_type": "execute_result",
     "execution_count": 13
    }
   ],
   "source": [
    "for old, new in replacements:\n",
    "    fragile_states[\"country\"] = fragile_states[\"country\"].str.replace(pat=old, repl=new)\n",
    "fragile_states[\"country\"].unique()"
   ]
  },
  {
   "cell_type": "markdown",
   "execution_count": null,
   "metadata": {},
   "outputs": [],
   "source": [
    "## Merge again"
   ]
  },
  {
   "cell_type": "code",
   "execution_count": 13,
   "metadata": {
    "pycharm": {
     "is_executing": false
    }
   },
   "outputs": [],
   "source": [
    "full_set = indicators_pop.merge(fragile_states, left_on=['Country','MidPeriod'], right_on=['country','year'])"
   ]
  },
  {
   "cell_type": "code",
   "execution_count": 14,
   "metadata": {
    "pycharm": {
     "is_executing": false
    }
   },
   "outputs": [
    {
     "data": {
      "text/plain": "[]"
     },
     "metadata": {},
     "output_type": "execute_result",
     "execution_count": 14
    }
   ],
   "source": [
    "list(set(fragile_states[\"country\"]).difference(set(full_set[\"country\"])))"
   ]
  },
  {
   "cell_type": "markdown",
   "execution_count": null,
   "metadata": {},
   "outputs": [],
   "source": [
    "## Drop unused/duplicated columns"
   ]
  },
  {
   "cell_type": "code",
   "execution_count": 15,
   "metadata": {
    "pycharm": {
     "is_executing": false
    }
   },
   "outputs": [],
   "source": [
    "indicators_pop.drop(columns=[\"LocID\"], inplace=True)\n",
    "full_set.drop(columns=[\"LocID\", \"Unnamed: 0\"], inplace=True)"
   ]
  },
  {
   "cell_type": "markdown",
   "execution_count": null,
   "metadata": {},
   "outputs": [],
   "source": [
    "## Calculate the index change from the previous 5 year"
   ]
  },
  {
   "cell_type": "code",
   "execution_count": 19,
   "metadata": {
    "pycharm": {
     "is_executing": false
    }
   },
   "outputs": [
    {
     "name": "stdout",
     "text": [
      "{('Guinea', 4)}\n",
      "{('Guinea', 2)}\n"
     ],
     "output_type": "stream"
    },
    {
     "traceback": [
      "\u001b[1;31m---------------------------------------------------------------------------\u001b[0m",
      "\u001b[1;31mValueError\u001b[0m                                Traceback (most recent call last)",
      "\u001b[1;32m<ipython-input-19-78aba322b107>\u001b[0m in \u001b[0;36m<module>\u001b[1;34m\u001b[0m\n\u001b[0;32m     12\u001b[0m \u001b[1;33m\u001b[0m\u001b[0m\n\u001b[0;32m     13\u001b[0m     \u001b[0mfull_set\u001b[0m\u001b[1;33m.\u001b[0m\u001b[0mloc\u001b[0m\u001b[1;33m[\u001b[0m\u001b[0mquery_result\u001b[0m\u001b[1;33m.\u001b[0m\u001b[0mindex\u001b[0m\u001b[1;33m,\u001b[0m \u001b[1;34m\"change_from_previous_year\"\u001b[0m\u001b[1;33m]\u001b[0m \u001b[1;33m=\u001b[0m\u001b[0;31m \u001b[0m\u001b[0;31m\\\u001b[0m\u001b[1;33m\u001b[0m\u001b[1;33m\u001b[0m\u001b[0m\n\u001b[1;32m---> 14\u001b[1;33m         \u001b[1;33m(\u001b[0m\u001b[0mquery_result\u001b[0m\u001b[1;33m.\u001b[0m\u001b[0mset_index\u001b[0m\u001b[1;33m(\u001b[0m\u001b[1;34m\"Country\"\u001b[0m\u001b[1;33m)\u001b[0m\u001b[1;33m[\u001b[0m\u001b[1;34m\"total\"\u001b[0m\u001b[1;33m]\u001b[0m \u001b[1;33m-\u001b[0m \u001b[0mprevious\u001b[0m\u001b[1;33m.\u001b[0m\u001b[0mset_index\u001b[0m\u001b[1;33m(\u001b[0m\u001b[1;34m\"Country\"\u001b[0m\u001b[1;33m)\u001b[0m\u001b[1;33m[\u001b[0m\u001b[1;34m\"total\"\u001b[0m\u001b[1;33m]\u001b[0m\u001b[1;33m)\u001b[0m\u001b[1;33m.\u001b[0m\u001b[0mround\u001b[0m\u001b[1;33m(\u001b[0m\u001b[1;36m1\u001b[0m\u001b[1;33m)\u001b[0m\u001b[1;33m.\u001b[0m\u001b[0mfillna\u001b[0m\u001b[1;33m(\u001b[0m\u001b[1;36m0\u001b[0m\u001b[1;33m)\u001b[0m\u001b[1;33m.\u001b[0m\u001b[0mto_numpy\u001b[0m\u001b[1;33m(\u001b[0m\u001b[1;33m)\u001b[0m\u001b[1;33m\u001b[0m\u001b[1;33m\u001b[0m\u001b[0m\n\u001b[0m\u001b[0;32m     15\u001b[0m     \u001b[0mprevious\u001b[0m \u001b[1;33m=\u001b[0m \u001b[0mfull_set\u001b[0m\u001b[1;33m.\u001b[0m\u001b[0mloc\u001b[0m\u001b[1;33m[\u001b[0m\u001b[0mquery_result\u001b[0m\u001b[1;33m.\u001b[0m\u001b[0mindex\u001b[0m\u001b[1;33m,\u001b[0m \u001b[1;33m:\u001b[0m\u001b[1;33m]\u001b[0m\u001b[1;33m\u001b[0m\u001b[1;33m\u001b[0m\u001b[0m\n\u001b[0;32m     16\u001b[0m \u001b[1;33m\u001b[0m\u001b[0m\n",
      "\u001b[1;32mC:\\ProgramData\\Anaconda3\\envs\\bayesOpt\\lib\\site-packages\\pandas\\core\\indexing.py\u001b[0m in \u001b[0;36m__setitem__\u001b[1;34m(self, key, value)\u001b[0m\n\u001b[0;32m    188\u001b[0m             \u001b[0mkey\u001b[0m \u001b[1;33m=\u001b[0m \u001b[0mcom\u001b[0m\u001b[1;33m.\u001b[0m\u001b[0mapply_if_callable\u001b[0m\u001b[1;33m(\u001b[0m\u001b[0mkey\u001b[0m\u001b[1;33m,\u001b[0m \u001b[0mself\u001b[0m\u001b[1;33m.\u001b[0m\u001b[0mobj\u001b[0m\u001b[1;33m)\u001b[0m\u001b[1;33m\u001b[0m\u001b[1;33m\u001b[0m\u001b[0m\n\u001b[0;32m    189\u001b[0m         \u001b[0mindexer\u001b[0m \u001b[1;33m=\u001b[0m \u001b[0mself\u001b[0m\u001b[1;33m.\u001b[0m\u001b[0m_get_setitem_indexer\u001b[0m\u001b[1;33m(\u001b[0m\u001b[0mkey\u001b[0m\u001b[1;33m)\u001b[0m\u001b[1;33m\u001b[0m\u001b[1;33m\u001b[0m\u001b[0m\n\u001b[1;32m--> 190\u001b[1;33m         \u001b[0mself\u001b[0m\u001b[1;33m.\u001b[0m\u001b[0m_setitem_with_indexer\u001b[0m\u001b[1;33m(\u001b[0m\u001b[0mindexer\u001b[0m\u001b[1;33m,\u001b[0m \u001b[0mvalue\u001b[0m\u001b[1;33m)\u001b[0m\u001b[1;33m\u001b[0m\u001b[1;33m\u001b[0m\u001b[0m\n\u001b[0m\u001b[0;32m    191\u001b[0m \u001b[1;33m\u001b[0m\u001b[0m\n\u001b[0;32m    192\u001b[0m     \u001b[1;32mdef\u001b[0m \u001b[0m_validate_key\u001b[0m\u001b[1;33m(\u001b[0m\u001b[0mself\u001b[0m\u001b[1;33m,\u001b[0m \u001b[0mkey\u001b[0m\u001b[1;33m,\u001b[0m \u001b[0maxis\u001b[0m\u001b[1;33m)\u001b[0m\u001b[1;33m:\u001b[0m\u001b[1;33m\u001b[0m\u001b[1;33m\u001b[0m\u001b[0m\n",
      "\u001b[1;32mC:\\ProgramData\\Anaconda3\\envs\\bayesOpt\\lib\\site-packages\\pandas\\core\\indexing.py\u001b[0m in \u001b[0;36m_setitem_with_indexer\u001b[1;34m(self, indexer, value)\u001b[0m\n\u001b[0;32m    609\u001b[0m \u001b[1;33m\u001b[0m\u001b[0m\n\u001b[0;32m    610\u001b[0m                     \u001b[1;32mif\u001b[0m \u001b[0mlen\u001b[0m\u001b[1;33m(\u001b[0m\u001b[0mlabels\u001b[0m\u001b[1;33m)\u001b[0m \u001b[1;33m!=\u001b[0m \u001b[0mlen\u001b[0m\u001b[1;33m(\u001b[0m\u001b[0mvalue\u001b[0m\u001b[1;33m)\u001b[0m\u001b[1;33m:\u001b[0m\u001b[1;33m\u001b[0m\u001b[1;33m\u001b[0m\u001b[0m\n\u001b[1;32m--> 611\u001b[1;33m                         raise ValueError('Must have equal len keys and value '\n\u001b[0m\u001b[0;32m    612\u001b[0m                                          'when setting with an iterable')\n\u001b[0;32m    613\u001b[0m \u001b[1;33m\u001b[0m\u001b[0m\n",
      "\u001b[1;31mValueError\u001b[0m: Must have equal len keys and value when setting with an iterable"
     ],
     "ename": "ValueError",
     "evalue": "Must have equal len keys and value when setting with an iterable",
     "output_type": "error"
    }
   ],
   "source": [
    "query_result = full_set.query(\"Time == '2005-2010'\")\n",
    "full_set.loc[query_result.index, \"change_from_previous_year\"] = pd.Series(0, index=query_result.index)\n",
    "previous = query_result\n",
    "for years in [\"2010-2015\", \"2015-2020\"]:\n",
    "    query_result = full_set.query(\"Time == '\" + years + \"'\")\n",
    "\n",
    "    l1 = list((query_result.set_index(\"Country\")[\"total\"] - previous.set_index(\"Country\")[\"total\"]).round(1).fillna(0).index)\n",
    "    l2 = list(query_result.set_index(\"Country\").index)\n",
    "    print(set([(x, l1.count(x)) for x in l1 if l1.count(x) > 1]))\n",
    "    print(set([(x, l2.count(x)) for x in l2 if l2.count(x) > 1]))\n",
    "    \n",
    "    full_set.loc[query_result.index, \"change_from_previous_year\"] = \\\n",
    "        (query_result.set_index(\"Country\")[\"total\"] - previous.set_index(\"Country\")[\"total\"]).round(1).fillna(0).to_numpy()\n",
    "    previous = full_set.loc[query_result.index, :]"
   ]
  },
  {
   "cell_type": "code",
   "execution_count": 17,
   "metadata": {
    "pycharm": {
     "is_executing": false
    }
   },
   "outputs": [
    {
     "traceback": [
      "\u001b[1;31m---------------------------------------------------------------------------\u001b[0m",
      "\u001b[1;31mKeyError\u001b[0m                                  Traceback (most recent call last)",
      "\u001b[1;32m<ipython-input-17-155a16d6f567>\u001b[0m in \u001b[0;36m<module>\u001b[1;34m\u001b[0m\n\u001b[0;32m      1\u001b[0m \u001b[1;31m# pydev_debug_cell\u001b[0m\u001b[1;33m\u001b[0m\u001b[1;33m\u001b[0m\u001b[1;33m\u001b[0m\u001b[0m\n\u001b[1;32m----> 2\u001b[1;33m \u001b[0mfragile_states\u001b[0m\u001b[1;33m.\u001b[0m\u001b[0mset_index\u001b[0m\u001b[1;33m(\u001b[0m\u001b[1;34m\"country\"\u001b[0m\u001b[1;33m)\u001b[0m\u001b[1;33m.\u001b[0m\u001b[0mloc\u001b[0m\u001b[1;33m[\u001b[0m\u001b[0mmissing_countries\u001b[0m\u001b[1;33m,\u001b[0m \u001b[1;33m:\u001b[0m\u001b[1;33m]\u001b[0m\u001b[1;33m.\u001b[0m\u001b[0mshape\u001b[0m\u001b[1;33m\u001b[0m\u001b[1;33m\u001b[0m\u001b[0m\n\u001b[0m\u001b[0;32m      3\u001b[0m \u001b[1;33m\u001b[0m\u001b[0m\n",
      "\u001b[1;32mC:\\ProgramData\\Anaconda3\\envs\\bayesOpt\\lib\\site-packages\\pandas\\core\\indexing.py\u001b[0m in \u001b[0;36m__getitem__\u001b[1;34m(self, key)\u001b[0m\n\u001b[0;32m   1492\u001b[0m             \u001b[1;32mexcept\u001b[0m \u001b[1;33m(\u001b[0m\u001b[0mKeyError\u001b[0m\u001b[1;33m,\u001b[0m \u001b[0mIndexError\u001b[0m\u001b[1;33m,\u001b[0m \u001b[0mAttributeError\u001b[0m\u001b[1;33m)\u001b[0m\u001b[1;33m:\u001b[0m\u001b[1;33m\u001b[0m\u001b[1;33m\u001b[0m\u001b[0m\n\u001b[0;32m   1493\u001b[0m                 \u001b[1;32mpass\u001b[0m\u001b[1;33m\u001b[0m\u001b[1;33m\u001b[0m\u001b[0m\n\u001b[1;32m-> 1494\u001b[1;33m             \u001b[1;32mreturn\u001b[0m \u001b[0mself\u001b[0m\u001b[1;33m.\u001b[0m\u001b[0m_getitem_tuple\u001b[0m\u001b[1;33m(\u001b[0m\u001b[0mkey\u001b[0m\u001b[1;33m)\u001b[0m\u001b[1;33m\u001b[0m\u001b[1;33m\u001b[0m\u001b[0m\n\u001b[0m\u001b[0;32m   1495\u001b[0m         \u001b[1;32melse\u001b[0m\u001b[1;33m:\u001b[0m\u001b[1;33m\u001b[0m\u001b[1;33m\u001b[0m\u001b[0m\n\u001b[0;32m   1496\u001b[0m             \u001b[1;31m# we by definition only have the 0th axis\u001b[0m\u001b[1;33m\u001b[0m\u001b[1;33m\u001b[0m\u001b[1;33m\u001b[0m\u001b[0m\n",
      "\u001b[1;32mC:\\ProgramData\\Anaconda3\\envs\\bayesOpt\\lib\\site-packages\\pandas\\core\\indexing.py\u001b[0m in \u001b[0;36m_getitem_tuple\u001b[1;34m(self, tup)\u001b[0m\n\u001b[0;32m    886\u001b[0m                 \u001b[1;32mcontinue\u001b[0m\u001b[1;33m\u001b[0m\u001b[1;33m\u001b[0m\u001b[0m\n\u001b[0;32m    887\u001b[0m \u001b[1;33m\u001b[0m\u001b[0m\n\u001b[1;32m--> 888\u001b[1;33m             \u001b[0mretval\u001b[0m \u001b[1;33m=\u001b[0m \u001b[0mgetattr\u001b[0m\u001b[1;33m(\u001b[0m\u001b[0mretval\u001b[0m\u001b[1;33m,\u001b[0m \u001b[0mself\u001b[0m\u001b[1;33m.\u001b[0m\u001b[0mname\u001b[0m\u001b[1;33m)\u001b[0m\u001b[1;33m.\u001b[0m\u001b[0m_getitem_axis\u001b[0m\u001b[1;33m(\u001b[0m\u001b[0mkey\u001b[0m\u001b[1;33m,\u001b[0m \u001b[0maxis\u001b[0m\u001b[1;33m=\u001b[0m\u001b[0mi\u001b[0m\u001b[1;33m)\u001b[0m\u001b[1;33m\u001b[0m\u001b[1;33m\u001b[0m\u001b[0m\n\u001b[0m\u001b[0;32m    889\u001b[0m \u001b[1;33m\u001b[0m\u001b[0m\n\u001b[0;32m    890\u001b[0m         \u001b[1;32mreturn\u001b[0m \u001b[0mretval\u001b[0m\u001b[1;33m\u001b[0m\u001b[1;33m\u001b[0m\u001b[0m\n",
      "\u001b[1;32mC:\\ProgramData\\Anaconda3\\envs\\bayesOpt\\lib\\site-packages\\pandas\\core\\indexing.py\u001b[0m in \u001b[0;36m_getitem_axis\u001b[1;34m(self, key, axis)\u001b[0m\n\u001b[0;32m   1900\u001b[0m                     \u001b[1;32mraise\u001b[0m \u001b[0mValueError\u001b[0m\u001b[1;33m(\u001b[0m\u001b[1;34m'Cannot index with multidimensional key'\u001b[0m\u001b[1;33m)\u001b[0m\u001b[1;33m\u001b[0m\u001b[1;33m\u001b[0m\u001b[0m\n\u001b[0;32m   1901\u001b[0m \u001b[1;33m\u001b[0m\u001b[0m\n\u001b[1;32m-> 1902\u001b[1;33m                 \u001b[1;32mreturn\u001b[0m \u001b[0mself\u001b[0m\u001b[1;33m.\u001b[0m\u001b[0m_getitem_iterable\u001b[0m\u001b[1;33m(\u001b[0m\u001b[0mkey\u001b[0m\u001b[1;33m,\u001b[0m \u001b[0maxis\u001b[0m\u001b[1;33m=\u001b[0m\u001b[0maxis\u001b[0m\u001b[1;33m)\u001b[0m\u001b[1;33m\u001b[0m\u001b[1;33m\u001b[0m\u001b[0m\n\u001b[0m\u001b[0;32m   1903\u001b[0m \u001b[1;33m\u001b[0m\u001b[0m\n\u001b[0;32m   1904\u001b[0m             \u001b[1;31m# nested tuple slicing\u001b[0m\u001b[1;33m\u001b[0m\u001b[1;33m\u001b[0m\u001b[1;33m\u001b[0m\u001b[0m\n",
      "\u001b[1;32mC:\\ProgramData\\Anaconda3\\envs\\bayesOpt\\lib\\site-packages\\pandas\\core\\indexing.py\u001b[0m in \u001b[0;36m_getitem_iterable\u001b[1;34m(self, key, axis)\u001b[0m\n\u001b[0;32m   1203\u001b[0m             \u001b[1;31m# A collection of keys\u001b[0m\u001b[1;33m\u001b[0m\u001b[1;33m\u001b[0m\u001b[1;33m\u001b[0m\u001b[0m\n\u001b[0;32m   1204\u001b[0m             keyarr, indexer = self._get_listlike_indexer(key, axis,\n\u001b[1;32m-> 1205\u001b[1;33m                                                          raise_missing=False)\n\u001b[0m\u001b[0;32m   1206\u001b[0m             return self.obj._reindex_with_indexers({axis: [keyarr, indexer]},\n\u001b[0;32m   1207\u001b[0m                                                    copy=True, allow_dups=True)\n",
      "\u001b[1;32mC:\\ProgramData\\Anaconda3\\envs\\bayesOpt\\lib\\site-packages\\pandas\\core\\indexing.py\u001b[0m in \u001b[0;36m_get_listlike_indexer\u001b[1;34m(self, key, axis, raise_missing)\u001b[0m\n\u001b[0;32m   1159\u001b[0m         self._validate_read_indexer(keyarr, indexer,\n\u001b[0;32m   1160\u001b[0m                                     \u001b[0mo\u001b[0m\u001b[1;33m.\u001b[0m\u001b[0m_get_axis_number\u001b[0m\u001b[1;33m(\u001b[0m\u001b[0maxis\u001b[0m\u001b[1;33m)\u001b[0m\u001b[1;33m,\u001b[0m\u001b[1;33m\u001b[0m\u001b[1;33m\u001b[0m\u001b[0m\n\u001b[1;32m-> 1161\u001b[1;33m                                     raise_missing=raise_missing)\n\u001b[0m\u001b[0;32m   1162\u001b[0m         \u001b[1;32mreturn\u001b[0m \u001b[0mkeyarr\u001b[0m\u001b[1;33m,\u001b[0m \u001b[0mindexer\u001b[0m\u001b[1;33m\u001b[0m\u001b[1;33m\u001b[0m\u001b[0m\n\u001b[0;32m   1163\u001b[0m \u001b[1;33m\u001b[0m\u001b[0m\n",
      "\u001b[1;32mC:\\ProgramData\\Anaconda3\\envs\\bayesOpt\\lib\\site-packages\\pandas\\core\\indexing.py\u001b[0m in \u001b[0;36m_validate_read_indexer\u001b[1;34m(self, key, indexer, axis, raise_missing)\u001b[0m\n\u001b[0;32m   1244\u001b[0m                 raise KeyError(\n\u001b[0;32m   1245\u001b[0m                     u\"None of [{key}] are in the [{axis}]\".format(\n\u001b[1;32m-> 1246\u001b[1;33m                         key=key, axis=self.obj._get_axis_name(axis)))\n\u001b[0m\u001b[0;32m   1247\u001b[0m \u001b[1;33m\u001b[0m\u001b[0m\n\u001b[0;32m   1248\u001b[0m             \u001b[1;31m# We (temporarily) allow for some missing keys with .loc, except in\u001b[0m\u001b[1;33m\u001b[0m\u001b[1;33m\u001b[0m\u001b[1;33m\u001b[0m\u001b[0m\n",
      "\u001b[1;31mKeyError\u001b[0m: \"None of [Index(['Bolivia', 'Cape Verde', 'Congo Democratic Republic', 'Congo Republic',\\n       'Cote d'Ivoire', 'Czech Republic', 'Guinea Bissau', 'Iran',\\n       'Israel and West Bank', 'Kyrgyz Republic', 'Laos', 'Macedonia',\\n       'Moldova', 'North Korea', 'Russia', 'Slovak Republic', 'South Korea',\\n       'Swaziland', 'Syria', 'Tanzania', 'United States', 'Venezuela',\\n       'Vietnam'],\\n      dtype='object', name='country')] are in the [index]\""
     ],
     "ename": "KeyError",
     "evalue": "\"None of [Index(['Bolivia', 'Cape Verde', 'Congo Democratic Republic', 'Congo Republic',\\n       'Cote d'Ivoire', 'Czech Republic', 'Guinea Bissau', 'Iran',\\n       'Israel and West Bank', 'Kyrgyz Republic', 'Laos', 'Macedonia',\\n       'Moldova', 'North Korea', 'Russia', 'Slovak Republic', 'South Korea',\\n       'Swaziland', 'Syria', 'Tanzania', 'United States', 'Venezuela',\\n       'Vietnam'],\\n      dtype='object', name='country')] are in the [index]\"",
     "output_type": "error"
    }
   ],
   "source": [
    "fragile_states.set_index(\"country\").loc[missing_countries, :].shape"
   ]
  },
  {
   "cell_type": "markdown",
   "execution_count": null,
   "metadata": {},
   "outputs": [],
   "source": [
    "# Save all dataframes"
   ]
  },
  {
   "cell_type": "code",
   "execution_count": 0,
   "metadata": {},
   "outputs": [],
   "source": [
    "pop_total.to_csv(\"../data/clean/population_total.csv\")\n",
    "pop_per_age.to_csv(\"../data/clean/population_per_age.csv\")\n",
    "indicators_pop.to_csv(index=False, path_or_buf=\"../data/clean/population_indicators.csv\")\n",
    "full_set.to_csv(index=False, path_or_buf=\"../data/clean/full_set.csv\")"
   ]
  },
  {
   "cell_type": "code",
   "execution_count": 0,
   "metadata": {},
   "outputs": [],
   "source": [
    "list(set(fragile_states[\"country\"]).difference(set(full_set[\"country\"]))).sort()"
   ]
  },
  {
   "cell_type": "code",
   "execution_count": null,
   "metadata": {},
   "outputs": [],
   "source": []
  }
 ],
 "metadata": {
  "kernelspec": {
   "display_name": "Python 3",
   "language": "python",
   "name": "python3"
  },
  "language_info": {
   "codemirror_mode": {
    "name": "ipython",
    "version": 3
   },
   "file_extension": ".py",
   "mimetype": "text/x-python",
   "name": "python",
   "nbconvert_exporter": "python",
   "pygments_lexer": "ipython3",
   "version": "3.7.3-final"
  },
  "pycharm": {
   "stem_cell": {
    "cell_type": "raw",
    "source": [],
    "metadata": {
     "collapsed": false
    }
   }
  }
 },
 "nbformat": 4,
 "nbformat_minor": 2
}