{
 "cells": [
  {
   "cell_type": "code",
   "execution_count": 1,
   "metadata": {},
   "outputs": [],
   "source": [
    "import pandas as pd\n",
    "import numpy as np"
   ]
  },
  {
   "cell_type": "markdown",
   "metadata": {},
   "source": [
    "## drop unwanted features and check correlations"
   ]
  },
  {
   "cell_type": "code",
   "execution_count": 2,
   "metadata": {},
   "outputs": [],
   "source": [
    "df = pd.read_csv(\"../data/clean/full_set.csv\")\n",
    "\n",
    "# drop time related features\n",
    "df.drop([\"Time\",\"MidPeriod\",\"year\"], axis=1, inplace=True)\n",
    "\n",
    "# drop country identifying features\n",
    "df.drop([\"Country\",\"country\",\"LocID\",\"Code\"], axis=1, inplace=True)\n",
    "\n",
    "# drop highly correlated variables (to RelMigrations)\n",
    "df.drop([\"CNMR\",\"NetMigrations\"], axis=1, inplace=True)\n",
    "\n",
    "# drop useless columns (?)\n",
    "df.drop([\"change_from_previous_year\",\"Unnamed: 0\"], axis=1, inplace=True)"
   ]
  },
  {
   "cell_type": "code",
   "execution_count": 3,
   "metadata": {},
   "outputs": [
    {
     "data": {
      "text/plain": "RelMigrations                   1.000000\nGrowthRate                      0.705031\nPopMale                         0.658954\nPopMale_20-59                   0.629584\nPopTotal_20-59                  0.448237\nLExMale                         0.257140\nranking                         0.241839\nLEx                             0.223727\nLExFemale                       0.195654\nMAC                             0.184813\nPopMale_60+                    -0.017935\nPopTotal                       -0.023673\nPopTotal_60+                   -0.047207\nSRB                            -0.053567\nPopFemale_60+                  -0.068172\nNatIncr                        -0.076701\nhuman_rights                   -0.090040\nstate_legitimacy               -0.123657\nNRR                            -0.131922\nPopFemale_20-59                -0.136321\nTFR                            -0.137589\nfactionalized_elites           -0.139101\nCBR                            -0.165699\nQ5                             -0.173873\nBirths                         -0.174237\ngroup_grievance                -0.179730\nIMR                            -0.189846\nrefugees_and_idps              -0.190535\ndemographic_pressures          -0.215144\nPopMale_0-19                   -0.233790\neconomic_inequality            -0.235116\nPopTotal_0-19                  -0.239294\nPopFemale_0-19                 -0.244450\ntotal                          -0.247939\nexternal_intervention          -0.249359\nsecurity_apparatus             -0.253645\npublic_services                -0.272183\nDeathsFemale                   -0.301363\nCDR                            -0.310981\nDeaths                         -0.314459\nDeathsMale                     -0.323745\neconomy                        -0.333008\nhuman_flight_and_brain_drain   -0.344528\nPopFemale                      -0.658953\ndtype: float64"
     },
     "execution_count": 3,
     "metadata": {},
     "output_type": "execute_result"
    }
   ],
   "source": [
    "df.corrwith(df.RelMigrations).sort_values(ascending=False)"
   ]
  },
  {
   "cell_type": "markdown",
   "metadata": {},
   "source": [
    "## check model performance"
   ]
  },
  {
   "cell_type": "code",
   "execution_count": 4,
   "metadata": {},
   "outputs": [],
   "source": [
    "from sklearn.ensemble import ExtraTreesRegressor\n",
    "from sklearn.model_selection import cross_validate"
   ]
  },
  {
   "cell_type": "code",
   "execution_count": 5,
   "metadata": {},
   "outputs": [],
   "source": [
    "X = df.drop(\"RelMigrations\", axis=1)\n",
    "y = df.RelMigrations"
   ]
  },
  {
   "cell_type": "code",
   "execution_count": 6,
   "metadata": {},
   "outputs": [
    {
     "name": "stdout",
     "output_type": "stream",
     "text": "mean absolute error: 0.0019889440408838665\nstandard deviatoin: 0.00044103655030360033\n"
    }
   ],
   "source": [
    "clf = ExtraTreesRegressor(n_estimators=50)\n",
    "scores = cross_validate(clf, X, y, scoring=\"neg_mean_absolute_error\", cv=10)\n",
    "print(\"mean absolute error: \" + str(scores[\"test_score\"].mean() * -1))\n",
    "print(\"standard deviatoin: \" + str(scores[\"test_score\"].std()))"
   ]
  },
  {
   "cell_type": "markdown",
   "metadata": {},
   "source": [
    "## calculate feature importances"
   ]
  },
  {
   "cell_type": "code",
   "execution_count": 7,
   "metadata": {},
   "outputs": [
    {
     "data": {
      "text/html": "<div>\n<style scoped>\n    .dataframe tbody tr th:only-of-type {\n        vertical-align: middle;\n    }\n\n    .dataframe tbody tr th {\n        vertical-align: top;\n    }\n\n    .dataframe thead th {\n        text-align: right;\n    }\n</style>\n<table border=\"1\" class=\"dataframe\">\n  <thead>\n    <tr style=\"text-align: right;\">\n      <th></th>\n      <th>rel_feature_importances</th>\n    </tr>\n  </thead>\n  <tbody>\n    <tr>\n      <th>GrowthRate</th>\n      <td>0.466572</td>\n    </tr>\n    <tr>\n      <th>PopMale_20-59</th>\n      <td>0.063648</td>\n    </tr>\n    <tr>\n      <th>PopMale</th>\n      <td>0.059837</td>\n    </tr>\n    <tr>\n      <th>PopFemale</th>\n      <td>0.043333</td>\n    </tr>\n    <tr>\n      <th>DeathsFemale</th>\n      <td>0.033641</td>\n    </tr>\n    <tr>\n      <th>Deaths</th>\n      <td>0.031074</td>\n    </tr>\n    <tr>\n      <th>CDR</th>\n      <td>0.023679</td>\n    </tr>\n    <tr>\n      <th>DeathsMale</th>\n      <td>0.023370</td>\n    </tr>\n    <tr>\n      <th>PopFemale_20-59</th>\n      <td>0.023110</td>\n    </tr>\n    <tr>\n      <th>PopTotal_20-59</th>\n      <td>0.020974</td>\n    </tr>\n    <tr>\n      <th>economy</th>\n      <td>0.018910</td>\n    </tr>\n    <tr>\n      <th>total</th>\n      <td>0.015005</td>\n    </tr>\n    <tr>\n      <th>NatIncr</th>\n      <td>0.013133</td>\n    </tr>\n    <tr>\n      <th>external_intervention</th>\n      <td>0.011304</td>\n    </tr>\n    <tr>\n      <th>PopTotal_60+</th>\n      <td>0.010881</td>\n    </tr>\n    <tr>\n      <th>PopMale_0-19</th>\n      <td>0.010326</td>\n    </tr>\n    <tr>\n      <th>human_flight_and_brain_drain</th>\n      <td>0.009860</td>\n    </tr>\n    <tr>\n      <th>refugees_and_idps</th>\n      <td>0.009345</td>\n    </tr>\n    <tr>\n      <th>LExMale</th>\n      <td>0.007666</td>\n    </tr>\n    <tr>\n      <th>ranking</th>\n      <td>0.007150</td>\n    </tr>\n    <tr>\n      <th>public_services</th>\n      <td>0.007032</td>\n    </tr>\n    <tr>\n      <th>security_apparatus</th>\n      <td>0.006892</td>\n    </tr>\n    <tr>\n      <th>PopTotal_0-19</th>\n      <td>0.006627</td>\n    </tr>\n    <tr>\n      <th>PopFemale_0-19</th>\n      <td>0.006488</td>\n    </tr>\n    <tr>\n      <th>economic_inequality</th>\n      <td>0.005716</td>\n    </tr>\n    <tr>\n      <th>CBR</th>\n      <td>0.005651</td>\n    </tr>\n    <tr>\n      <th>PopFemale_60+</th>\n      <td>0.005583</td>\n    </tr>\n    <tr>\n      <th>NRR</th>\n      <td>0.005208</td>\n    </tr>\n    <tr>\n      <th>LEx</th>\n      <td>0.004854</td>\n    </tr>\n    <tr>\n      <th>PopMale_60+</th>\n      <td>0.004432</td>\n    </tr>\n    <tr>\n      <th>PopTotal</th>\n      <td>0.004234</td>\n    </tr>\n    <tr>\n      <th>Q5</th>\n      <td>0.004123</td>\n    </tr>\n    <tr>\n      <th>human_rights</th>\n      <td>0.004032</td>\n    </tr>\n    <tr>\n      <th>state_legitimacy</th>\n      <td>0.003762</td>\n    </tr>\n    <tr>\n      <th>TFR</th>\n      <td>0.003632</td>\n    </tr>\n    <tr>\n      <th>LExFemale</th>\n      <td>0.003539</td>\n    </tr>\n    <tr>\n      <th>MAC</th>\n      <td>0.003037</td>\n    </tr>\n    <tr>\n      <th>factionalized_elites</th>\n      <td>0.002455</td>\n    </tr>\n    <tr>\n      <th>Births</th>\n      <td>0.002435</td>\n    </tr>\n    <tr>\n      <th>SRB</th>\n      <td>0.002225</td>\n    </tr>\n    <tr>\n      <th>demographic_pressures</th>\n      <td>0.001841</td>\n    </tr>\n    <tr>\n      <th>group_grievance</th>\n      <td>0.001753</td>\n    </tr>\n    <tr>\n      <th>IMR</th>\n      <td>0.001631</td>\n    </tr>\n  </tbody>\n</table>\n</div>",
      "text/plain": "                              rel_feature_importances\nGrowthRate                                   0.466572\nPopMale_20-59                                0.063648\nPopMale                                      0.059837\nPopFemale                                    0.043333\nDeathsFemale                                 0.033641\nDeaths                                       0.031074\nCDR                                          0.023679\nDeathsMale                                   0.023370\nPopFemale_20-59                              0.023110\nPopTotal_20-59                               0.020974\neconomy                                      0.018910\ntotal                                        0.015005\nNatIncr                                      0.013133\nexternal_intervention                        0.011304\nPopTotal_60+                                 0.010881\nPopMale_0-19                                 0.010326\nhuman_flight_and_brain_drain                 0.009860\nrefugees_and_idps                            0.009345\nLExMale                                      0.007666\nranking                                      0.007150\npublic_services                              0.007032\nsecurity_apparatus                           0.006892\nPopTotal_0-19                                0.006627\nPopFemale_0-19                               0.006488\neconomic_inequality                          0.005716\nCBR                                          0.005651\nPopFemale_60+                                0.005583\nNRR                                          0.005208\nLEx                                          0.004854\nPopMale_60+                                  0.004432\nPopTotal                                     0.004234\nQ5                                           0.004123\nhuman_rights                                 0.004032\nstate_legitimacy                             0.003762\nTFR                                          0.003632\nLExFemale                                    0.003539\nMAC                                          0.003037\nfactionalized_elites                         0.002455\nBirths                                       0.002435\nSRB                                          0.002225\ndemographic_pressures                        0.001841\ngroup_grievance                              0.001753\nIMR                                          0.001631"
     },
     "execution_count": 7,
     "metadata": {},
     "output_type": "execute_result"
    }
   ],
   "source": [
    "clf = clf.fit(X, y)\n",
    "\n",
    "feature_importances = pd.DataFrame(clf.feature_importances_).T\n",
    "feature_importances.columns = X.columns\n",
    "feature_importances = feature_importances.T\n",
    "feature_importances.columns = [\"rel_feature_importances\"]\n",
    "feature_importances.sort_values(by=\"rel_feature_importances\", ascending=False)"
   ]
  },
  {
   "cell_type": "code",
   "execution_count": null,
   "outputs": [],
   "source": [],
   "metadata": {
    "collapsed": false,
    "pycharm": {
     "name": "#%%\n"
    }
   }
  },
  {
   "cell_type": "code",
   "execution_count": null,
   "metadata": {},
   "outputs": [],
   "source": []
  }
 ],
 "metadata": {
  "kernelspec": {
   "display_name": "Python 3",
   "language": "python",
   "name": "python3"
  },
  "language_info": {
   "codemirror_mode": {
    "name": "ipython",
    "version": 3
   },
   "file_extension": ".py",
   "mimetype": "text/x-python",
   "name": "python",
   "nbconvert_exporter": "python",
   "pygments_lexer": "ipython3",
   "version": "3.7.3-final"
  },
  "pycharm": {
   "stem_cell": {
    "cell_type": "raw",
    "source": [],
    "metadata": {
     "collapsed": false
    }
   }
  }
 },
 "nbformat": 4,
 "nbformat_minor": 2
}